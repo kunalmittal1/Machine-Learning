{
 "cells": [
  {
   "cell_type": "code",
   "execution_count": 1,
   "id": "aa0aa049",
   "metadata": {},
   "outputs": [],
   "source": [
    "import pandas as pd\n",
    "import numpy as np\n",
    "import matplotlib.pyplot as plt\n",
    "import seaborn as sns\n",
    "import warnings\n",
    "from sklearn.model_selection import train_test_split\n",
    "from sklearn.preprocessing import StandardScaler\n",
    "from sklearn.metrics import mean_squared_error\n",
    "from sklearn.metrics import mean_absolute_error\n",
    "from sklearn.metrics import r2_score\n",
    "warnings.filterwarnings('ignore')\n",
    "%matplotlib inline\n",
    "pd.set_option('display.max_columns', 500)"
   ]
  },
  {
   "cell_type": "code",
   "execution_count": 2,
   "id": "a71e3688",
   "metadata": {},
   "outputs": [
    {
     "data": {
      "text/html": [
       "<div>\n",
       "<style scoped>\n",
       "    .dataframe tbody tr th:only-of-type {\n",
       "        vertical-align: middle;\n",
       "    }\n",
       "\n",
       "    .dataframe tbody tr th {\n",
       "        vertical-align: top;\n",
       "    }\n",
       "\n",
       "    .dataframe thead th {\n",
       "        text-align: right;\n",
       "    }\n",
       "</style>\n",
       "<table border=\"1\" class=\"dataframe\">\n",
       "  <thead>\n",
       "    <tr style=\"text-align: right;\">\n",
       "      <th></th>\n",
       "      <th>fixed acidity</th>\n",
       "      <th>volatile acidity</th>\n",
       "      <th>citric acid</th>\n",
       "      <th>residual sugar</th>\n",
       "      <th>chlorides</th>\n",
       "      <th>free sulfur dioxide</th>\n",
       "      <th>total sulfur dioxide</th>\n",
       "      <th>density</th>\n",
       "      <th>pH</th>\n",
       "      <th>sulphates</th>\n",
       "      <th>alcohol</th>\n",
       "      <th>quality</th>\n",
       "    </tr>\n",
       "  </thead>\n",
       "  <tbody>\n",
       "    <tr>\n",
       "      <th>0</th>\n",
       "      <td>7.4</td>\n",
       "      <td>0.700</td>\n",
       "      <td>0.00</td>\n",
       "      <td>1.9</td>\n",
       "      <td>0.076</td>\n",
       "      <td>11.0</td>\n",
       "      <td>34.0</td>\n",
       "      <td>0.99780</td>\n",
       "      <td>3.51</td>\n",
       "      <td>0.56</td>\n",
       "      <td>9.4</td>\n",
       "      <td>5</td>\n",
       "    </tr>\n",
       "    <tr>\n",
       "      <th>1</th>\n",
       "      <td>7.8</td>\n",
       "      <td>0.880</td>\n",
       "      <td>0.00</td>\n",
       "      <td>2.6</td>\n",
       "      <td>0.098</td>\n",
       "      <td>25.0</td>\n",
       "      <td>67.0</td>\n",
       "      <td>0.99680</td>\n",
       "      <td>3.20</td>\n",
       "      <td>0.68</td>\n",
       "      <td>9.8</td>\n",
       "      <td>5</td>\n",
       "    </tr>\n",
       "    <tr>\n",
       "      <th>2</th>\n",
       "      <td>7.8</td>\n",
       "      <td>0.760</td>\n",
       "      <td>0.04</td>\n",
       "      <td>2.3</td>\n",
       "      <td>0.092</td>\n",
       "      <td>15.0</td>\n",
       "      <td>54.0</td>\n",
       "      <td>0.99700</td>\n",
       "      <td>3.26</td>\n",
       "      <td>0.65</td>\n",
       "      <td>9.8</td>\n",
       "      <td>5</td>\n",
       "    </tr>\n",
       "    <tr>\n",
       "      <th>3</th>\n",
       "      <td>11.2</td>\n",
       "      <td>0.280</td>\n",
       "      <td>0.56</td>\n",
       "      <td>1.9</td>\n",
       "      <td>0.075</td>\n",
       "      <td>17.0</td>\n",
       "      <td>60.0</td>\n",
       "      <td>0.99800</td>\n",
       "      <td>3.16</td>\n",
       "      <td>0.58</td>\n",
       "      <td>9.8</td>\n",
       "      <td>6</td>\n",
       "    </tr>\n",
       "    <tr>\n",
       "      <th>4</th>\n",
       "      <td>7.4</td>\n",
       "      <td>0.700</td>\n",
       "      <td>0.00</td>\n",
       "      <td>1.9</td>\n",
       "      <td>0.076</td>\n",
       "      <td>11.0</td>\n",
       "      <td>34.0</td>\n",
       "      <td>0.99780</td>\n",
       "      <td>3.51</td>\n",
       "      <td>0.56</td>\n",
       "      <td>9.4</td>\n",
       "      <td>5</td>\n",
       "    </tr>\n",
       "    <tr>\n",
       "      <th>...</th>\n",
       "      <td>...</td>\n",
       "      <td>...</td>\n",
       "      <td>...</td>\n",
       "      <td>...</td>\n",
       "      <td>...</td>\n",
       "      <td>...</td>\n",
       "      <td>...</td>\n",
       "      <td>...</td>\n",
       "      <td>...</td>\n",
       "      <td>...</td>\n",
       "      <td>...</td>\n",
       "      <td>...</td>\n",
       "    </tr>\n",
       "    <tr>\n",
       "      <th>1594</th>\n",
       "      <td>6.2</td>\n",
       "      <td>0.600</td>\n",
       "      <td>0.08</td>\n",
       "      <td>2.0</td>\n",
       "      <td>0.090</td>\n",
       "      <td>32.0</td>\n",
       "      <td>44.0</td>\n",
       "      <td>0.99490</td>\n",
       "      <td>3.45</td>\n",
       "      <td>0.58</td>\n",
       "      <td>10.5</td>\n",
       "      <td>5</td>\n",
       "    </tr>\n",
       "    <tr>\n",
       "      <th>1595</th>\n",
       "      <td>5.9</td>\n",
       "      <td>0.550</td>\n",
       "      <td>0.10</td>\n",
       "      <td>2.2</td>\n",
       "      <td>0.062</td>\n",
       "      <td>39.0</td>\n",
       "      <td>51.0</td>\n",
       "      <td>0.99512</td>\n",
       "      <td>3.52</td>\n",
       "      <td>0.76</td>\n",
       "      <td>11.2</td>\n",
       "      <td>6</td>\n",
       "    </tr>\n",
       "    <tr>\n",
       "      <th>1596</th>\n",
       "      <td>6.3</td>\n",
       "      <td>0.510</td>\n",
       "      <td>0.13</td>\n",
       "      <td>2.3</td>\n",
       "      <td>0.076</td>\n",
       "      <td>29.0</td>\n",
       "      <td>40.0</td>\n",
       "      <td>0.99574</td>\n",
       "      <td>3.42</td>\n",
       "      <td>0.75</td>\n",
       "      <td>11.0</td>\n",
       "      <td>6</td>\n",
       "    </tr>\n",
       "    <tr>\n",
       "      <th>1597</th>\n",
       "      <td>5.9</td>\n",
       "      <td>0.645</td>\n",
       "      <td>0.12</td>\n",
       "      <td>2.0</td>\n",
       "      <td>0.075</td>\n",
       "      <td>32.0</td>\n",
       "      <td>44.0</td>\n",
       "      <td>0.99547</td>\n",
       "      <td>3.57</td>\n",
       "      <td>0.71</td>\n",
       "      <td>10.2</td>\n",
       "      <td>5</td>\n",
       "    </tr>\n",
       "    <tr>\n",
       "      <th>1598</th>\n",
       "      <td>6.0</td>\n",
       "      <td>0.310</td>\n",
       "      <td>0.47</td>\n",
       "      <td>3.6</td>\n",
       "      <td>0.067</td>\n",
       "      <td>18.0</td>\n",
       "      <td>42.0</td>\n",
       "      <td>0.99549</td>\n",
       "      <td>3.39</td>\n",
       "      <td>0.66</td>\n",
       "      <td>11.0</td>\n",
       "      <td>6</td>\n",
       "    </tr>\n",
       "  </tbody>\n",
       "</table>\n",
       "<p>1599 rows × 12 columns</p>\n",
       "</div>"
      ],
      "text/plain": [
       "      fixed acidity  volatile acidity  citric acid  residual sugar  chlorides  \\\n",
       "0               7.4             0.700         0.00             1.9      0.076   \n",
       "1               7.8             0.880         0.00             2.6      0.098   \n",
       "2               7.8             0.760         0.04             2.3      0.092   \n",
       "3              11.2             0.280         0.56             1.9      0.075   \n",
       "4               7.4             0.700         0.00             1.9      0.076   \n",
       "...             ...               ...          ...             ...        ...   \n",
       "1594            6.2             0.600         0.08             2.0      0.090   \n",
       "1595            5.9             0.550         0.10             2.2      0.062   \n",
       "1596            6.3             0.510         0.13             2.3      0.076   \n",
       "1597            5.9             0.645         0.12             2.0      0.075   \n",
       "1598            6.0             0.310         0.47             3.6      0.067   \n",
       "\n",
       "      free sulfur dioxide  total sulfur dioxide  density    pH  sulphates  \\\n",
       "0                    11.0                  34.0  0.99780  3.51       0.56   \n",
       "1                    25.0                  67.0  0.99680  3.20       0.68   \n",
       "2                    15.0                  54.0  0.99700  3.26       0.65   \n",
       "3                    17.0                  60.0  0.99800  3.16       0.58   \n",
       "4                    11.0                  34.0  0.99780  3.51       0.56   \n",
       "...                   ...                   ...      ...   ...        ...   \n",
       "1594                 32.0                  44.0  0.99490  3.45       0.58   \n",
       "1595                 39.0                  51.0  0.99512  3.52       0.76   \n",
       "1596                 29.0                  40.0  0.99574  3.42       0.75   \n",
       "1597                 32.0                  44.0  0.99547  3.57       0.71   \n",
       "1598                 18.0                  42.0  0.99549  3.39       0.66   \n",
       "\n",
       "      alcohol  quality  \n",
       "0         9.4        5  \n",
       "1         9.8        5  \n",
       "2         9.8        5  \n",
       "3         9.8        6  \n",
       "4         9.4        5  \n",
       "...       ...      ...  \n",
       "1594     10.5        5  \n",
       "1595     11.2        6  \n",
       "1596     11.0        6  \n",
       "1597     10.2        5  \n",
       "1598     11.0        6  \n",
       "\n",
       "[1599 rows x 12 columns]"
      ]
     },
     "execution_count": 2,
     "metadata": {},
     "output_type": "execute_result"
    }
   ],
   "source": [
    "#dataset used = \"https://www.kaggle.com/datasets/uciml/red-wine-quality-cortez-et-al-2009\"\n",
    "df = pd.read_csv(\"winequality-red.csv\")\n",
    "df"
   ]
  },
  {
   "cell_type": "code",
   "execution_count": 3,
   "id": "bf3bad0f",
   "metadata": {},
   "outputs": [
    {
     "data": {
      "text/plain": [
       "(1599, 12)"
      ]
     },
     "execution_count": 3,
     "metadata": {},
     "output_type": "execute_result"
    }
   ],
   "source": [
    "df.shape"
   ]
  },
  {
   "cell_type": "code",
   "execution_count": 4,
   "id": "429e8d10",
   "metadata": {},
   "outputs": [
    {
     "data": {
      "text/plain": [
       "array([5, 6, 7, 4, 8, 3], dtype=int64)"
      ]
     },
     "execution_count": 4,
     "metadata": {},
     "output_type": "execute_result"
    }
   ],
   "source": [
    "df.quality.unique()"
   ]
  },
  {
   "cell_type": "code",
   "execution_count": 5,
   "id": "4b18870c",
   "metadata": {},
   "outputs": [
    {
     "data": {
      "text/plain": [
       "5    681\n",
       "6    638\n",
       "7    199\n",
       "4     53\n",
       "8     18\n",
       "3     10\n",
       "Name: quality, dtype: int64"
      ]
     },
     "execution_count": 5,
     "metadata": {},
     "output_type": "execute_result"
    }
   ],
   "source": [
    "df[\"quality\"].value_counts()"
   ]
  },
  {
   "cell_type": "code",
   "execution_count": 6,
   "id": "375f4452",
   "metadata": {},
   "outputs": [
    {
     "data": {
      "text/plain": [
       "Index(['fixed acidity', 'volatile acidity', 'citric acid', 'residual sugar',\n",
       "       'chlorides', 'free sulfur dioxide', 'total sulfur dioxide', 'density',\n",
       "       'pH', 'sulphates', 'alcohol', 'quality'],\n",
       "      dtype='object')"
      ]
     },
     "execution_count": 6,
     "metadata": {},
     "output_type": "execute_result"
    }
   ],
   "source": [
    "df.columns"
   ]
  },
  {
   "cell_type": "code",
   "execution_count": 7,
   "id": "29cce836",
   "metadata": {},
   "outputs": [
    {
     "name": "stdout",
     "output_type": "stream",
     "text": [
      "<class 'pandas.core.frame.DataFrame'>\n",
      "RangeIndex: 1599 entries, 0 to 1598\n",
      "Data columns (total 12 columns):\n",
      " #   Column                Non-Null Count  Dtype  \n",
      "---  ------                --------------  -----  \n",
      " 0   fixed acidity         1599 non-null   float64\n",
      " 1   volatile acidity      1599 non-null   float64\n",
      " 2   citric acid           1599 non-null   float64\n",
      " 3   residual sugar        1599 non-null   float64\n",
      " 4   chlorides             1599 non-null   float64\n",
      " 5   free sulfur dioxide   1599 non-null   float64\n",
      " 6   total sulfur dioxide  1599 non-null   float64\n",
      " 7   density               1599 non-null   float64\n",
      " 8   pH                    1599 non-null   float64\n",
      " 9   sulphates             1599 non-null   float64\n",
      " 10  alcohol               1599 non-null   float64\n",
      " 11  quality               1599 non-null   int64  \n",
      "dtypes: float64(11), int64(1)\n",
      "memory usage: 150.0 KB\n"
     ]
    }
   ],
   "source": [
    "df.info()"
   ]
  },
  {
   "cell_type": "code",
   "execution_count": 8,
   "id": "58d8a776",
   "metadata": {},
   "outputs": [
    {
     "data": {
      "text/html": [
       "<div>\n",
       "<style scoped>\n",
       "    .dataframe tbody tr th:only-of-type {\n",
       "        vertical-align: middle;\n",
       "    }\n",
       "\n",
       "    .dataframe tbody tr th {\n",
       "        vertical-align: top;\n",
       "    }\n",
       "\n",
       "    .dataframe thead th {\n",
       "        text-align: right;\n",
       "    }\n",
       "</style>\n",
       "<table border=\"1\" class=\"dataframe\">\n",
       "  <thead>\n",
       "    <tr style=\"text-align: right;\">\n",
       "      <th></th>\n",
       "      <th>fixed acidity</th>\n",
       "      <th>volatile acidity</th>\n",
       "      <th>citric acid</th>\n",
       "      <th>residual sugar</th>\n",
       "      <th>chlorides</th>\n",
       "      <th>free sulfur dioxide</th>\n",
       "      <th>total sulfur dioxide</th>\n",
       "      <th>density</th>\n",
       "      <th>pH</th>\n",
       "      <th>sulphates</th>\n",
       "      <th>alcohol</th>\n",
       "      <th>quality</th>\n",
       "    </tr>\n",
       "  </thead>\n",
       "  <tbody>\n",
       "    <tr>\n",
       "      <th>count</th>\n",
       "      <td>1599.000000</td>\n",
       "      <td>1599.000000</td>\n",
       "      <td>1599.000000</td>\n",
       "      <td>1599.000000</td>\n",
       "      <td>1599.000000</td>\n",
       "      <td>1599.000000</td>\n",
       "      <td>1599.000000</td>\n",
       "      <td>1599.000000</td>\n",
       "      <td>1599.000000</td>\n",
       "      <td>1599.000000</td>\n",
       "      <td>1599.000000</td>\n",
       "      <td>1599.000000</td>\n",
       "    </tr>\n",
       "    <tr>\n",
       "      <th>mean</th>\n",
       "      <td>8.319637</td>\n",
       "      <td>0.527821</td>\n",
       "      <td>0.270976</td>\n",
       "      <td>2.538806</td>\n",
       "      <td>0.087467</td>\n",
       "      <td>15.874922</td>\n",
       "      <td>46.467792</td>\n",
       "      <td>0.996747</td>\n",
       "      <td>3.311113</td>\n",
       "      <td>0.658149</td>\n",
       "      <td>10.422983</td>\n",
       "      <td>5.636023</td>\n",
       "    </tr>\n",
       "    <tr>\n",
       "      <th>std</th>\n",
       "      <td>1.741096</td>\n",
       "      <td>0.179060</td>\n",
       "      <td>0.194801</td>\n",
       "      <td>1.409928</td>\n",
       "      <td>0.047065</td>\n",
       "      <td>10.460157</td>\n",
       "      <td>32.895324</td>\n",
       "      <td>0.001887</td>\n",
       "      <td>0.154386</td>\n",
       "      <td>0.169507</td>\n",
       "      <td>1.065668</td>\n",
       "      <td>0.807569</td>\n",
       "    </tr>\n",
       "    <tr>\n",
       "      <th>min</th>\n",
       "      <td>4.600000</td>\n",
       "      <td>0.120000</td>\n",
       "      <td>0.000000</td>\n",
       "      <td>0.900000</td>\n",
       "      <td>0.012000</td>\n",
       "      <td>1.000000</td>\n",
       "      <td>6.000000</td>\n",
       "      <td>0.990070</td>\n",
       "      <td>2.740000</td>\n",
       "      <td>0.330000</td>\n",
       "      <td>8.400000</td>\n",
       "      <td>3.000000</td>\n",
       "    </tr>\n",
       "    <tr>\n",
       "      <th>25%</th>\n",
       "      <td>7.100000</td>\n",
       "      <td>0.390000</td>\n",
       "      <td>0.090000</td>\n",
       "      <td>1.900000</td>\n",
       "      <td>0.070000</td>\n",
       "      <td>7.000000</td>\n",
       "      <td>22.000000</td>\n",
       "      <td>0.995600</td>\n",
       "      <td>3.210000</td>\n",
       "      <td>0.550000</td>\n",
       "      <td>9.500000</td>\n",
       "      <td>5.000000</td>\n",
       "    </tr>\n",
       "    <tr>\n",
       "      <th>50%</th>\n",
       "      <td>7.900000</td>\n",
       "      <td>0.520000</td>\n",
       "      <td>0.260000</td>\n",
       "      <td>2.200000</td>\n",
       "      <td>0.079000</td>\n",
       "      <td>14.000000</td>\n",
       "      <td>38.000000</td>\n",
       "      <td>0.996750</td>\n",
       "      <td>3.310000</td>\n",
       "      <td>0.620000</td>\n",
       "      <td>10.200000</td>\n",
       "      <td>6.000000</td>\n",
       "    </tr>\n",
       "    <tr>\n",
       "      <th>75%</th>\n",
       "      <td>9.200000</td>\n",
       "      <td>0.640000</td>\n",
       "      <td>0.420000</td>\n",
       "      <td>2.600000</td>\n",
       "      <td>0.090000</td>\n",
       "      <td>21.000000</td>\n",
       "      <td>62.000000</td>\n",
       "      <td>0.997835</td>\n",
       "      <td>3.400000</td>\n",
       "      <td>0.730000</td>\n",
       "      <td>11.100000</td>\n",
       "      <td>6.000000</td>\n",
       "    </tr>\n",
       "    <tr>\n",
       "      <th>max</th>\n",
       "      <td>15.900000</td>\n",
       "      <td>1.580000</td>\n",
       "      <td>1.000000</td>\n",
       "      <td>15.500000</td>\n",
       "      <td>0.611000</td>\n",
       "      <td>72.000000</td>\n",
       "      <td>289.000000</td>\n",
       "      <td>1.003690</td>\n",
       "      <td>4.010000</td>\n",
       "      <td>2.000000</td>\n",
       "      <td>14.900000</td>\n",
       "      <td>8.000000</td>\n",
       "    </tr>\n",
       "  </tbody>\n",
       "</table>\n",
       "</div>"
      ],
      "text/plain": [
       "       fixed acidity  volatile acidity  citric acid  residual sugar  \\\n",
       "count    1599.000000       1599.000000  1599.000000     1599.000000   \n",
       "mean        8.319637          0.527821     0.270976        2.538806   \n",
       "std         1.741096          0.179060     0.194801        1.409928   \n",
       "min         4.600000          0.120000     0.000000        0.900000   \n",
       "25%         7.100000          0.390000     0.090000        1.900000   \n",
       "50%         7.900000          0.520000     0.260000        2.200000   \n",
       "75%         9.200000          0.640000     0.420000        2.600000   \n",
       "max        15.900000          1.580000     1.000000       15.500000   \n",
       "\n",
       "         chlorides  free sulfur dioxide  total sulfur dioxide      density  \\\n",
       "count  1599.000000          1599.000000           1599.000000  1599.000000   \n",
       "mean      0.087467            15.874922             46.467792     0.996747   \n",
       "std       0.047065            10.460157             32.895324     0.001887   \n",
       "min       0.012000             1.000000              6.000000     0.990070   \n",
       "25%       0.070000             7.000000             22.000000     0.995600   \n",
       "50%       0.079000            14.000000             38.000000     0.996750   \n",
       "75%       0.090000            21.000000             62.000000     0.997835   \n",
       "max       0.611000            72.000000            289.000000     1.003690   \n",
       "\n",
       "                pH    sulphates      alcohol      quality  \n",
       "count  1599.000000  1599.000000  1599.000000  1599.000000  \n",
       "mean      3.311113     0.658149    10.422983     5.636023  \n",
       "std       0.154386     0.169507     1.065668     0.807569  \n",
       "min       2.740000     0.330000     8.400000     3.000000  \n",
       "25%       3.210000     0.550000     9.500000     5.000000  \n",
       "50%       3.310000     0.620000    10.200000     6.000000  \n",
       "75%       3.400000     0.730000    11.100000     6.000000  \n",
       "max       4.010000     2.000000    14.900000     8.000000  "
      ]
     },
     "execution_count": 8,
     "metadata": {},
     "output_type": "execute_result"
    }
   ],
   "source": [
    "df.describe()"
   ]
  },
  {
   "cell_type": "code",
   "execution_count": 9,
   "id": "eaab5ed1",
   "metadata": {},
   "outputs": [
    {
     "data": {
      "text/plain": [
       "fixed acidity           0\n",
       "volatile acidity        0\n",
       "citric acid             0\n",
       "residual sugar          0\n",
       "chlorides               0\n",
       "free sulfur dioxide     0\n",
       "total sulfur dioxide    0\n",
       "density                 0\n",
       "pH                      0\n",
       "sulphates               0\n",
       "alcohol                 0\n",
       "quality                 0\n",
       "dtype: int64"
      ]
     },
     "execution_count": 9,
     "metadata": {},
     "output_type": "execute_result"
    }
   ],
   "source": [
    "df.isna().sum()"
   ]
  },
  {
   "cell_type": "code",
   "execution_count": 10,
   "id": "c4e3be08",
   "metadata": {},
   "outputs": [
    {
     "data": {
      "text/plain": [
       "Index(['fixed acidity', 'volatile acidity', 'citric acid', 'residual sugar',\n",
       "       'chlorides', 'free sulfur dioxide', 'total sulfur dioxide', 'density',\n",
       "       'pH', 'sulphates', 'alcohol', 'quality'],\n",
       "      dtype='object')"
      ]
     },
     "execution_count": 10,
     "metadata": {},
     "output_type": "execute_result"
    }
   ],
   "source": [
    "df.columns"
   ]
  },
  {
   "cell_type": "code",
   "execution_count": 11,
   "id": "7b272f5e",
   "metadata": {},
   "outputs": [],
   "source": [
    "df['quality'] = df['quality'].astype('int')"
   ]
  },
  {
   "cell_type": "code",
   "execution_count": 12,
   "id": "cac7b8c9",
   "metadata": {},
   "outputs": [
    {
     "data": {
      "text/plain": [
       "0    0.000000\n",
       "1    0.000000\n",
       "2    0.200000\n",
       "3    0.748331\n",
       "4    0.000000\n",
       "Name: citric acid, dtype: float64"
      ]
     },
     "execution_count": 12,
     "metadata": {},
     "output_type": "execute_result"
    }
   ],
   "source": [
    "df['citric acid'] = np.sqrt(df['citric acid'])\n",
    "df['citric acid'].head()"
   ]
  },
  {
   "cell_type": "code",
   "execution_count": 13,
   "id": "139eddd9",
   "metadata": {},
   "outputs": [
    {
     "data": {
      "image/png": "[encoded data removed]",
      "text/plain": [
       "<Figure size 864x576 with 1 Axes>"
      ]
     },
     "metadata": {
      "needs_background": "light"
     },
     "output_type": "display_data"
    }
   ],
   "source": [
    "plt.figure(figsize=(12,8))\n",
    "sns.histplot(data = df, x='citric acid',kde=True, bins=30, color='blue')\n",
    "plt.show()"
   ]
  },
  {
   "cell_type": "code",
   "execution_count": 14,
   "id": "4bd77b71",
   "metadata": {},
   "outputs": [
    {
     "data": {
      "text/plain": [
       "0    3.316625\n",
       "1    5.000000\n",
       "2    3.872983\n",
       "3    4.123106\n",
       "4    3.316625\n",
       "Name: free sulfur dioxide, dtype: float64"
      ]
     },
     "execution_count": 14,
     "metadata": {},
     "output_type": "execute_result"
    }
   ],
   "source": [
    "df['free sulfur dioxide'] = np.sqrt(df['free sulfur dioxide'])\n",
    "df['free sulfur dioxide'].head()"
   ]
  },
  {
   "cell_type": "code",
   "execution_count": 15,
   "id": "3e80f91b",
   "metadata": {},
   "outputs": [
    {
     "data": {
      "image/png": "[encoded data removed]",
      "text/plain": [
       "<Figure size 864x576 with 1 Axes>"
      ]
     },
     "metadata": {
      "needs_background": "light"
     },
     "output_type": "display_data"
    }
   ],
   "source": [
    "plt.figure(figsize=(12,8))\n",
    "sns.histplot(data = df, x='free sulfur dioxide',kde=True, bins=30,color='blue')\n",
    "plt.show();"
   ]
  },
  {
   "cell_type": "code",
   "execution_count": 16,
   "id": "584c134d",
   "metadata": {},
   "outputs": [
    {
     "data": {
      "text/plain": [
       "0    5.830952\n",
       "1    8.185353\n",
       "2    7.348469\n",
       "3    7.745967\n",
       "4    5.830952\n",
       "Name: total sulfur dioxide, dtype: float64"
      ]
     },
     "execution_count": 16,
     "metadata": {},
     "output_type": "execute_result"
    }
   ],
   "source": [
    "df['total sulfur dioxide'] = np.sqrt(df['total sulfur dioxide'])\n",
    "df['total sulfur dioxide'].head()"
   ]
  },
  {
   "cell_type": "code",
   "execution_count": 17,
   "id": "17199803",
   "metadata": {},
   "outputs": [
    {
     "data": {
      "image/png": "[encoded data removed]",
      "text/plain": [
       "<Figure size 864x576 with 1 Axes>"
      ]
     },
     "metadata": {
      "needs_background": "light"
     },
     "output_type": "display_data"
    }
   ],
   "source": [
    "plt.figure(figsize=(12,8))\n",
    "sns.histplot(data = df, x='total sulfur dioxide',kde=True, bins=30,color='blue')\n",
    "plt.show()"
   ]
  },
  {
   "cell_type": "code",
   "execution_count": 18,
   "id": "8af54667",
   "metadata": {},
   "outputs": [
    {
     "data": {
      "text/plain": [
       "0    2.240710\n",
       "1    2.282382\n",
       "2    2.282382\n",
       "3    2.282382\n",
       "4    2.240710\n",
       "Name: alcohol, dtype: float64"
      ]
     },
     "execution_count": 18,
     "metadata": {},
     "output_type": "execute_result"
    }
   ],
   "source": [
    "df['alcohol'] = np.log(df['alcohol'])\n",
    "df['alcohol'].head()"
   ]
  },
  {
   "cell_type": "code",
   "execution_count": 19,
   "id": "1342200c",
   "metadata": {},
   "outputs": [
    {
     "data": {
      "image/png": "[encoded data removed]",
      "text/plain": [
       "<Figure size 864x576 with 1 Axes>"
      ]
     },
     "metadata": {
      "needs_background": "light"
     },
     "output_type": "display_data"
    }
   ],
   "source": [
    "plt.figure(figsize=(12,8))\n",
    "sns.histplot(data = df, x='alcohol',kde=True, bins=30, color='blue')\n",
    "plt.show();"
   ]
  },
  {
   "cell_type": "code",
   "execution_count": 20,
   "id": "f1c06e8e",
   "metadata": {},
   "outputs": [
    {
     "data": {
      "text/html": [
       "<div>\n",
       "<style scoped>\n",
       "    .dataframe tbody tr th:only-of-type {\n",
       "        vertical-align: middle;\n",
       "    }\n",
       "\n",
       "    .dataframe tbody tr th {\n",
       "        vertical-align: top;\n",
       "    }\n",
       "\n",
       "    .dataframe thead th {\n",
       "        text-align: right;\n",
       "    }\n",
       "</style>\n",
       "<table border=\"1\" class=\"dataframe\">\n",
       "  <thead>\n",
       "    <tr style=\"text-align: right;\">\n",
       "      <th></th>\n",
       "      <th>fixed acidity</th>\n",
       "      <th>volatile acidity</th>\n",
       "      <th>citric acid</th>\n",
       "      <th>residual sugar</th>\n",
       "      <th>chlorides</th>\n",
       "      <th>free sulfur dioxide</th>\n",
       "      <th>total sulfur dioxide</th>\n",
       "      <th>density</th>\n",
       "      <th>pH</th>\n",
       "      <th>sulphates</th>\n",
       "      <th>alcohol</th>\n",
       "      <th>quality</th>\n",
       "    </tr>\n",
       "  </thead>\n",
       "  <tbody>\n",
       "    <tr>\n",
       "      <th>fixed acidity</th>\n",
       "      <td>1.000000</td>\n",
       "      <td>-0.256131</td>\n",
       "      <td>0.615564</td>\n",
       "      <td>0.114777</td>\n",
       "      <td>0.093705</td>\n",
       "      <td>-0.170652</td>\n",
       "      <td>-0.118819</td>\n",
       "      <td>0.668047</td>\n",
       "      <td>-0.682978</td>\n",
       "      <td>0.183006</td>\n",
       "      <td>-0.057959</td>\n",
       "      <td>0.124052</td>\n",
       "    </tr>\n",
       "    <tr>\n",
       "      <th>volatile acidity</th>\n",
       "      <td>-0.256131</td>\n",
       "      <td>1.000000</td>\n",
       "      <td>-0.557720</td>\n",
       "      <td>0.001918</td>\n",
       "      <td>0.061298</td>\n",
       "      <td>0.001242</td>\n",
       "      <td>0.077561</td>\n",
       "      <td>0.022026</td>\n",
       "      <td>0.234937</td>\n",
       "      <td>-0.260987</td>\n",
       "      <td>-0.201444</td>\n",
       "      <td>-0.390558</td>\n",
       "    </tr>\n",
       "    <tr>\n",
       "      <th>citric acid</th>\n",
       "      <td>0.615564</td>\n",
       "      <td>-0.557720</td>\n",
       "      <td>1.000000</td>\n",
       "      <td>0.134923</td>\n",
       "      <td>0.163771</td>\n",
       "      <td>-0.046351</td>\n",
       "      <td>0.076331</td>\n",
       "      <td>0.338766</td>\n",
       "      <td>-0.538733</td>\n",
       "      <td>0.284239</td>\n",
       "      <td>0.064430</td>\n",
       "      <td>0.206682</td>\n",
       "    </tr>\n",
       "    <tr>\n",
       "      <th>residual sugar</th>\n",
       "      <td>0.114777</td>\n",
       "      <td>0.001918</td>\n",
       "      <td>0.134923</td>\n",
       "      <td>1.000000</td>\n",
       "      <td>0.055610</td>\n",
       "      <td>0.145921</td>\n",
       "      <td>0.177869</td>\n",
       "      <td>0.355283</td>\n",
       "      <td>-0.085652</td>\n",
       "      <td>0.005527</td>\n",
       "      <td>0.039034</td>\n",
       "      <td>0.013732</td>\n",
       "    </tr>\n",
       "    <tr>\n",
       "      <th>chlorides</th>\n",
       "      <td>0.093705</td>\n",
       "      <td>0.061298</td>\n",
       "      <td>0.163771</td>\n",
       "      <td>0.055610</td>\n",
       "      <td>1.000000</td>\n",
       "      <td>-0.000676</td>\n",
       "      <td>0.056220</td>\n",
       "      <td>0.200632</td>\n",
       "      <td>-0.265026</td>\n",
       "      <td>0.371260</td>\n",
       "      <td>-0.225791</td>\n",
       "      <td>-0.128907</td>\n",
       "    </tr>\n",
       "    <tr>\n",
       "      <th>free sulfur dioxide</th>\n",
       "      <td>-0.170652</td>\n",
       "      <td>0.001242</td>\n",
       "      <td>-0.046351</td>\n",
       "      <td>0.145921</td>\n",
       "      <td>-0.000676</td>\n",
       "      <td>1.000000</td>\n",
       "      <td>0.739076</td>\n",
       "      <td>-0.033398</td>\n",
       "      <td>0.085497</td>\n",
       "      <td>0.055537</td>\n",
       "      <td>-0.077772</td>\n",
       "      <td>-0.051474</td>\n",
       "    </tr>\n",
       "    <tr>\n",
       "      <th>total sulfur dioxide</th>\n",
       "      <td>-0.118819</td>\n",
       "      <td>0.077561</td>\n",
       "      <td>0.076331</td>\n",
       "      <td>0.177869</td>\n",
       "      <td>0.056220</td>\n",
       "      <td>0.739076</td>\n",
       "      <td>1.000000</td>\n",
       "      <td>0.089913</td>\n",
       "      <td>-0.040075</td>\n",
       "      <td>0.055978</td>\n",
       "      <td>-0.230976</td>\n",
       "      <td>-0.184192</td>\n",
       "    </tr>\n",
       "    <tr>\n",
       "      <th>density</th>\n",
       "      <td>0.668047</td>\n",
       "      <td>0.022026</td>\n",
       "      <td>0.338766</td>\n",
       "      <td>0.355283</td>\n",
       "      <td>0.200632</td>\n",
       "      <td>-0.033398</td>\n",
       "      <td>0.089913</td>\n",
       "      <td>1.000000</td>\n",
       "      <td>-0.341699</td>\n",
       "      <td>0.148506</td>\n",
       "      <td>-0.490948</td>\n",
       "      <td>-0.174919</td>\n",
       "    </tr>\n",
       "    <tr>\n",
       "      <th>pH</th>\n",
       "      <td>-0.682978</td>\n",
       "      <td>0.234937</td>\n",
       "      <td>-0.538733</td>\n",
       "      <td>-0.085652</td>\n",
       "      <td>-0.265026</td>\n",
       "      <td>0.085497</td>\n",
       "      <td>-0.040075</td>\n",
       "      <td>-0.341699</td>\n",
       "      <td>1.000000</td>\n",
       "      <td>-0.196648</td>\n",
       "      <td>0.206209</td>\n",
       "      <td>-0.057731</td>\n",
       "    </tr>\n",
       "    <tr>\n",
       "      <th>sulphates</th>\n",
       "      <td>0.183006</td>\n",
       "      <td>-0.260987</td>\n",
       "      <td>0.284239</td>\n",
       "      <td>0.005527</td>\n",
       "      <td>0.371260</td>\n",
       "      <td>0.055537</td>\n",
       "      <td>0.055978</td>\n",
       "      <td>0.148506</td>\n",
       "      <td>-0.196648</td>\n",
       "      <td>1.000000</td>\n",
       "      <td>0.093669</td>\n",
       "      <td>0.251397</td>\n",
       "    </tr>\n",
       "    <tr>\n",
       "      <th>alcohol</th>\n",
       "      <td>-0.057959</td>\n",
       "      <td>-0.201444</td>\n",
       "      <td>0.064430</td>\n",
       "      <td>0.039034</td>\n",
       "      <td>-0.225791</td>\n",
       "      <td>-0.077772</td>\n",
       "      <td>-0.230976</td>\n",
       "      <td>-0.490948</td>\n",
       "      <td>0.206209</td>\n",
       "      <td>0.093669</td>\n",
       "      <td>1.000000</td>\n",
       "      <td>0.476981</td>\n",
       "    </tr>\n",
       "    <tr>\n",
       "      <th>quality</th>\n",
       "      <td>0.124052</td>\n",
       "      <td>-0.390558</td>\n",
       "      <td>0.206682</td>\n",
       "      <td>0.013732</td>\n",
       "      <td>-0.128907</td>\n",
       "      <td>-0.051474</td>\n",
       "      <td>-0.184192</td>\n",
       "      <td>-0.174919</td>\n",
       "      <td>-0.057731</td>\n",
       "      <td>0.251397</td>\n",
       "      <td>0.476981</td>\n",
       "      <td>1.000000</td>\n",
       "    </tr>\n",
       "  </tbody>\n",
       "</table>\n",
       "</div>"
      ],
      "text/plain": [
       "                      fixed acidity  volatile acidity  citric acid  \\\n",
       "fixed acidity              1.000000         -0.256131     0.615564   \n",
       "volatile acidity          -0.256131          1.000000    -0.557720   \n",
       "citric acid                0.615564         -0.557720     1.000000   \n",
       "residual sugar             0.114777          0.001918     0.134923   \n",
       "chlorides                  0.093705          0.061298     0.163771   \n",
       "free sulfur dioxide       -0.170652          0.001242    -0.046351   \n",
       "total sulfur dioxide      -0.118819          0.077561     0.076331   \n",
       "density                    0.668047          0.022026     0.338766   \n",
       "pH                        -0.682978          0.234937    -0.538733   \n",
       "sulphates                  0.183006         -0.260987     0.284239   \n",
       "alcohol                   -0.057959         -0.201444     0.064430   \n",
       "quality                    0.124052         -0.390558     0.206682   \n",
       "\n",
       "                      residual sugar  chlorides  free sulfur dioxide  \\\n",
       "fixed acidity               0.114777   0.093705            -0.170652   \n",
       "volatile acidity            0.001918   0.061298             0.001242   \n",
       "citric acid                 0.134923   0.163771            -0.046351   \n",
       "residual sugar              1.000000   0.055610             0.145921   \n",
       "chlorides                   0.055610   1.000000            -0.000676   \n",
       "free sulfur dioxide         0.145921  -0.000676             1.000000   \n",
       "total sulfur dioxide        0.177869   0.056220             0.739076   \n",
       "density                     0.355283   0.200632            -0.033398   \n",
       "pH                         -0.085652  -0.265026             0.085497   \n",
       "sulphates                   0.005527   0.371260             0.055537   \n",
       "alcohol                     0.039034  -0.225791            -0.077772   \n",
       "quality                     0.013732  -0.128907            -0.051474   \n",
       "\n",
       "                      total sulfur dioxide   density        pH  sulphates  \\\n",
       "fixed acidity                    -0.118819  0.668047 -0.682978   0.183006   \n",
       "volatile acidity                  0.077561  0.022026  0.234937  -0.260987   \n",
       "citric acid                       0.076331  0.338766 -0.538733   0.284239   \n",
       "residual sugar                    0.177869  0.355283 -0.085652   0.005527   \n",
       "chlorides                         0.056220  0.200632 -0.265026   0.371260   \n",
       "free sulfur dioxide               0.739076 -0.033398  0.085497   0.055537   \n",
       "total sulfur dioxide              1.000000  0.089913 -0.040075   0.055978   \n",
       "density                           0.089913  1.000000 -0.341699   0.148506   \n",
       "pH                               -0.040075 -0.341699  1.000000  -0.196648   \n",
       "sulphates                         0.055978  0.148506 -0.196648   1.000000   \n",
       "alcohol                          -0.230976 -0.490948  0.206209   0.093669   \n",
       "quality                          -0.184192 -0.174919 -0.057731   0.251397   \n",
       "\n",
       "                       alcohol   quality  \n",
       "fixed acidity        -0.057959  0.124052  \n",
       "volatile acidity     -0.201444 -0.390558  \n",
       "citric acid           0.064430  0.206682  \n",
       "residual sugar        0.039034  0.013732  \n",
       "chlorides            -0.225791 -0.128907  \n",
       "free sulfur dioxide  -0.077772 -0.051474  \n",
       "total sulfur dioxide -0.230976 -0.184192  \n",
       "density              -0.490948 -0.174919  \n",
       "pH                    0.206209 -0.057731  \n",
       "sulphates             0.093669  0.251397  \n",
       "alcohol               1.000000  0.476981  \n",
       "quality               0.476981  1.000000  "
      ]
     },
     "execution_count": 20,
     "metadata": {},
     "output_type": "execute_result"
    }
   ],
   "source": [
    "df.corr()"
   ]
  },
  {
   "cell_type": "code",
   "execution_count": 21,
   "id": "768722b5",
   "metadata": {},
   "outputs": [
    {
     "data": {
      "text/plain": [
       "<AxesSubplot:>"
      ]
     },
     "execution_count": 21,
     "metadata": {},
     "output_type": "execute_result"
    },
    {
     "data": {
      "image/png": "[encoded data removed]",
      "text/plain": [
       "<Figure size 1080x1080 with 2 Axes>"
      ]
     },
     "metadata": {
      "needs_background": "light"
     },
     "output_type": "display_data"
    }
   ],
   "source": [
    "correlation_matrix = df.corr().round(2)\n",
    "fig, ax = plt.subplots(figsize=(15,15))   \n",
    "sns.heatmap(data=correlation_matrix, cmap=\"YlGnBu\", annot=True,linewidths=0.30)"
   ]
  },
  {
   "cell_type": "code",
   "execution_count": 22,
   "id": "7a3402c6",
   "metadata": {},
   "outputs": [],
   "source": [
    "x=df.drop(\"quality\",axis=1)"
   ]
  },
  {
   "cell_type": "code",
   "execution_count": 23,
   "id": "e46b6650",
   "metadata": {},
   "outputs": [],
   "source": [
    "y=df[\"quality\"]"
   ]
  },
  {
   "cell_type": "code",
   "execution_count": 24,
   "id": "c67cde0f",
   "metadata": {},
   "outputs": [],
   "source": [
    "x_train, x_test, y_train, y_test = train_test_split(x, y, test_size = 0.33, random_state=5)"
   ]
  },
  {
   "cell_type": "code",
   "execution_count": 25,
   "id": "e107330f",
   "metadata": {},
   "outputs": [
    {
     "name": "stdout",
     "output_type": "stream",
     "text": [
      "(1071, 11)\n",
      "(528, 11)\n"
     ]
    }
   ],
   "source": [
    "print(x_train.shape)\n",
    "print(x_test.shape)"
   ]
  },
  {
   "cell_type": "code",
   "execution_count": 26,
   "id": "4f454ab8",
   "metadata": {},
   "outputs": [
    {
     "name": "stdout",
     "output_type": "stream",
     "text": [
      "(1071,)\n",
      "(528,)\n"
     ]
    }
   ],
   "source": [
    "print(y_train.shape)\n",
    "print(y_test.shape)"
   ]
  },
  {
   "cell_type": "code",
   "execution_count": 27,
   "id": "4019b4ab",
   "metadata": {},
   "outputs": [],
   "source": [
    "scaler = StandardScaler()"
   ]
  },
  {
   "cell_type": "code",
   "execution_count": 28,
   "id": "d3c228bd",
   "metadata": {},
   "outputs": [
    {
     "data": {
      "text/plain": [
       "array([[-0.67922262,  0.59626068, -2.01235722, ...,  0.41210014,\n",
       "        -0.46806601, -1.45737161],\n",
       "       [ 1.8302001 , -0.30790489,  0.84071048, ...,  0.47742862,\n",
       "         1.11903978, -0.47792044],\n",
       "       [-0.39406095,  2.46110218, -0.08881937, ...,  0.34677165,\n",
       "        -1.26161891,  0.51096301],\n",
       "       ...,\n",
       "       [-1.07844896, -0.75998768,  0.05040732, ...,  0.86939954,\n",
       "        -0.63811306,  1.58426377],\n",
       "       [-1.1354813 , -0.81649802, -0.40300999, ...,  0.86939954,\n",
       "        -0.07128957,  0.69781287],\n",
       "       [ 1.6591031 , -1.04253942,  0.87294956, ..., -2.39702474,\n",
       "        -0.01460722, -1.23150627]])"
      ]
     },
     "execution_count": 28,
     "metadata": {},
     "output_type": "execute_result"
    }
   ],
   "source": [
    "scaler.fit_transform(x_train)\n",
    "scaler.transform(x_test)"
   ]
  },
  {
   "cell_type": "code",
   "execution_count": 29,
   "id": "6a4e6eaf",
   "metadata": {},
   "outputs": [],
   "source": [
    "from sklearn.svm import SVC\n",
    "svc = SVC()"
   ]
  },
  {
   "cell_type": "code",
   "execution_count": 30,
   "id": "a89c696a",
   "metadata": {},
   "outputs": [
    {
     "data": {
      "text/html": [
       "<style>#sk-container-id-1 {color: black;background-color: white;}#sk-container-id-1 pre{padding: 0;}#sk-container-id-1 div.sk-toggleable {background-color: white;}#sk-container-id-1 label.sk-toggleable__label {cursor: pointer;display: block;width: 100%;margin-bottom: 0;padding: 0.3em;box-sizing: border-box;text-align: center;}#sk-container-id-1 label.sk-toggleable__label-arrow:before {content: \"▸\";float: left;margin-right: 0.25em;color: #696969;}#sk-container-id-1 label.sk-toggleable__label-arrow:hover:before {color: black;}#sk-container-id-1 div.sk-estimator:hover label.sk-toggleable__label-arrow:before {color: black;}#sk-container-id-1 div.sk-toggleable__content {max-height: 0;max-width: 0;overflow: hidden;text-align: left;background-color: #f0f8ff;}#sk-container-id-1 div.sk-toggleable__content pre {margin: 0.2em;color: black;border-radius: 0.25em;background-color: #f0f8ff;}#sk-container-id-1 input.sk-toggleable__control:checked~div.sk-toggleable__content {max-height: 200px;max-width: 100%;overflow: auto;}#sk-container-id-1 input.sk-toggleable__control:checked~label.sk-toggleable__label-arrow:before {content: \"▾\";}#sk-container-id-1 div.sk-estimator input.sk-toggleable__control:checked~label.sk-toggleable__label {background-color: #d4ebff;}#sk-container-id-1 div.sk-label input.sk-toggleable__control:checked~label.sk-toggleable__label {background-color: #d4ebff;}#sk-container-id-1 input.sk-hidden--visually {border: 0;clip: rect(1px 1px 1px 1px);clip: rect(1px, 1px, 1px, 1px);height: 1px;margin: -1px;overflow: hidden;padding: 0;position: absolute;width: 1px;}#sk-container-id-1 div.sk-estimator {font-family: monospace;background-color: #f0f8ff;border: 1px dotted black;border-radius: 0.25em;box-sizing: border-box;margin-bottom: 0.5em;}#sk-container-id-1 div.sk-estimator:hover {background-color: #d4ebff;}#sk-container-id-1 div.sk-parallel-item::after {content: \"\";width: 100%;border-bottom: 1px solid gray;flex-grow: 1;}#sk-container-id-1 div.sk-label:hover label.sk-toggleable__label {background-color: #d4ebff;}#sk-container-id-1 div.sk-serial::before {content: \"\";position: absolute;border-left: 1px solid gray;box-sizing: border-box;top: 0;bottom: 0;left: 50%;z-index: 0;}#sk-container-id-1 div.sk-serial {display: flex;flex-direction: column;align-items: center;background-color: white;padding-right: 0.2em;padding-left: 0.2em;position: relative;}#sk-container-id-1 div.sk-item {position: relative;z-index: 1;}#sk-container-id-1 div.sk-parallel {display: flex;align-items: stretch;justify-content: center;background-color: white;position: relative;}#sk-container-id-1 div.sk-item::before, #sk-container-id-1 div.sk-parallel-item::before {content: \"\";position: absolute;border-left: 1px solid gray;box-sizing: border-box;top: 0;bottom: 0;left: 50%;z-index: -1;}#sk-container-id-1 div.sk-parallel-item {display: flex;flex-direction: column;z-index: 1;position: relative;background-color: white;}#sk-container-id-1 div.sk-parallel-item:first-child::after {align-self: flex-end;width: 50%;}#sk-container-id-1 div.sk-parallel-item:last-child::after {align-self: flex-start;width: 50%;}#sk-container-id-1 div.sk-parallel-item:only-child::after {width: 0;}#sk-container-id-1 div.sk-dashed-wrapped {border: 1px dashed gray;margin: 0 0.4em 0.5em 0.4em;box-sizing: border-box;padding-bottom: 0.4em;background-color: white;}#sk-container-id-1 div.sk-label label {font-family: monospace;font-weight: bold;display: inline-block;line-height: 1.2em;}#sk-container-id-1 div.sk-label-container {text-align: center;}#sk-container-id-1 div.sk-container {/* jupyter's `normalize.less` sets `[hidden] { display: none; }` but bootstrap.min.css set `[hidden] { display: none !important; }` so we also need the `!important` here to be able to override the default hidden behavior on the sphinx rendered scikit-learn.org. See: https://github.com/scikit-learn/scikit-learn/issues/21755 */display: inline-block !important;position: relative;}#sk-container-id-1 div.sk-text-repr-fallback {display: none;}</style><div id=\"sk-container-id-1\" class=\"sk-top-container\"><div class=\"sk-text-repr-fallback\"><pre>SVC()</pre><b>In a Jupyter environment, please rerun this cell to show the HTML representation or trust the notebook. <br />On GitHub, the HTML representation is unable to render, please try loading this page with nbviewer.org.</b></div><div class=\"sk-container\" hidden><div class=\"sk-item\"><div class=\"sk-estimator sk-toggleable\"><input class=\"sk-toggleable__control sk-hidden--visually\" id=\"sk-estimator-id-1\" type=\"checkbox\" checked><label for=\"sk-estimator-id-1\" class=\"sk-toggleable__label sk-toggleable__label-arrow\">SVC</label><div class=\"sk-toggleable__content\"><pre>SVC()</pre></div></div></div></div></div>"
      ],
      "text/plain": [
       "SVC()"
      ]
     },
     "execution_count": 30,
     "metadata": {},
     "output_type": "execute_result"
    }
   ],
   "source": [
    "svc.fit(x_train, y_train)"
   ]
  },
  {
   "cell_type": "code",
   "execution_count": 31,
   "id": "3d2d0974",
   "metadata": {},
   "outputs": [],
   "source": [
    "import pickle\n",
    "pickle.dump(svc, open('svc.pkl', 'wb'))"
   ]
  },
  {
   "cell_type": "code",
   "execution_count": 32,
   "id": "eba6b066",
   "metadata": {},
   "outputs": [
    {
     "data": {
      "text/plain": [
       "array([5, 6, 5, ..., 6, 6, 6])"
      ]
     },
     "execution_count": 32,
     "metadata": {},
     "output_type": "execute_result"
    }
   ],
   "source": [
    "svc.predict(x_train)"
   ]
  },
  {
   "cell_type": "code",
   "execution_count": 33,
   "id": "9aae0185",
   "metadata": {},
   "outputs": [],
   "source": [
    "y_pred_svc = svc.predict(x_test)"
   ]
  },
  {
   "cell_type": "code",
   "execution_count": 34,
   "id": "365f17d2",
   "metadata": {},
   "outputs": [],
   "source": [
    "from sklearn.metrics import classification_report, confusion_matrix"
   ]
  },
  {
   "cell_type": "code",
   "execution_count": 36,
   "id": "bc690831",
   "metadata": {},
   "outputs": [
    {
     "name": "stdout",
     "output_type": "stream",
     "text": [
      "              precision    recall  f1-score   support\n",
      "\n",
      "           3       0.00      0.00      0.00         5\n",
      "           4       0.00      0.00      0.00        13\n",
      "           5       0.71      0.42      0.52       236\n",
      "           6       0.43      0.85      0.57       196\n",
      "           7       0.00      0.00      0.00        71\n",
      "           8       0.00      0.00      0.00         7\n",
      "\n",
      "    accuracy                           0.50       528\n",
      "   macro avg       0.19      0.21      0.18       528\n",
      "weighted avg       0.48      0.50      0.44       528\n",
      "\n"
     ]
    }
   ],
   "source": [
    "print(classification_report(y_test,y_pred_svc))"
   ]
  },
  {
   "cell_type": "code",
   "execution_count": 37,
   "id": "31e8767b",
   "metadata": {},
   "outputs": [
    {
     "data": {
      "text/plain": [
       "array([[  0,   0,   0,   5,   0,   0],\n",
       "       [  0,   0,   2,  11,   0,   0],\n",
       "       [  0,   0,  98, 138,   0,   0],\n",
       "       [  0,   0,  30, 166,   0,   0],\n",
       "       [  0,   0,   7,  64,   0,   0],\n",
       "       [  0,   0,   1,   6,   0,   0]], dtype=int64)"
      ]
     },
     "execution_count": 37,
     "metadata": {},
     "output_type": "execute_result"
    }
   ],
   "source": [
    "confusion_matrix(y_test,y_pred_svc)"
   ]
  },
  {
   "cell_type": "code",
   "execution_count": 38,
   "id": "7119a1e9",
   "metadata": {},
   "outputs": [],
   "source": [
    "from sklearn.model_selection import GridSearchCV"
   ]
  },
  {
   "cell_type": "code",
   "execution_count": 39,
   "id": "275902fb",
   "metadata": {},
   "outputs": [],
   "source": [
    "param_grid = {'C': [0.1, 1, 10, 100], 'gamma': [1, 0.1, 0.01, 0.001],'kernel': ['linear', 'rbf']}\n",
    "model = GridSearchCV(svc,param_grid,scoring = \"neg_mean_squared_error\",cv = 5,verbose=3)"
   ]
  },
  {
   "cell_type": "code",
   "execution_count": 40,
   "id": "da7b7ade",
   "metadata": {},
   "outputs": [
    {
     "name": "stdout",
     "output_type": "stream",
     "text": [
      "Fitting 5 folds for each of 32 candidates, totalling 160 fits\n",
      "[CV 1/5] END ....C=0.1, gamma=1, kernel=linear;, score=-0.614 total time=   0.0s\n",
      "[CV 2/5] END ....C=0.1, gamma=1, kernel=linear;, score=-0.645 total time=   0.0s\n",
      "[CV 3/5] END ....C=0.1, gamma=1, kernel=linear;, score=-0.654 total time=   0.0s\n",
      "[CV 4/5] END ....C=0.1, gamma=1, kernel=linear;, score=-0.612 total time=   0.0s\n",
      "[CV 5/5] END ....C=0.1, gamma=1, kernel=linear;, score=-0.593 total time=   0.0s\n",
      "[CV 1/5] END .......C=0.1, gamma=1, kernel=rbf;, score=-0.949 total time=   0.0s\n",
      "[CV 2/5] END .......C=0.1, gamma=1, kernel=rbf;, score=-0.860 total time=   0.0s\n",
      "[CV 3/5] END .......C=0.1, gamma=1, kernel=rbf;, score=-0.902 total time=   0.0s\n",
      "[CV 4/5] END .......C=0.1, gamma=1, kernel=rbf;, score=-0.935 total time=   0.0s\n",
      "[CV 5/5] END .......C=0.1, gamma=1, kernel=rbf;, score=-0.925 total time=   0.0s\n",
      "[CV 1/5] END ..C=0.1, gamma=0.1, kernel=linear;, score=-0.614 total time=   0.0s\n",
      "[CV 2/5] END ..C=0.1, gamma=0.1, kernel=linear;, score=-0.645 total time=   0.0s\n",
      "[CV 3/5] END ..C=0.1, gamma=0.1, kernel=linear;, score=-0.654 total time=   0.0s\n",
      "[CV 4/5] END ..C=0.1, gamma=0.1, kernel=linear;, score=-0.612 total time=   0.0s\n",
      "[CV 5/5] END ..C=0.1, gamma=0.1, kernel=linear;, score=-0.593 total time=   0.0s\n",
      "[CV 1/5] END .....C=0.1, gamma=0.1, kernel=rbf;, score=-0.740 total time=   0.0s\n",
      "[CV 2/5] END .....C=0.1, gamma=0.1, kernel=rbf;, score=-0.696 total time=   0.0s\n",
      "[CV 3/5] END .....C=0.1, gamma=0.1, kernel=rbf;, score=-0.729 total time=   0.0s\n",
      "[CV 4/5] END .....C=0.1, gamma=0.1, kernel=rbf;, score=-0.650 total time=   0.0s\n",
      "[CV 5/5] END .....C=0.1, gamma=0.1, kernel=rbf;, score=-0.664 total time=   0.0s\n",
      "[CV 1/5] END .C=0.1, gamma=0.01, kernel=linear;, score=-0.614 total time=   0.0s\n",
      "[CV 2/5] END .C=0.1, gamma=0.01, kernel=linear;, score=-0.645 total time=   0.0s\n",
      "[CV 3/5] END .C=0.1, gamma=0.01, kernel=linear;, score=-0.654 total time=   0.0s\n",
      "[CV 4/5] END .C=0.1, gamma=0.01, kernel=linear;, score=-0.612 total time=   0.0s\n",
      "[CV 5/5] END .C=0.1, gamma=0.01, kernel=linear;, score=-0.593 total time=   0.0s\n",
      "[CV 1/5] END ....C=0.1, gamma=0.01, kernel=rbf;, score=-0.753 total time=   0.0s\n",
      "[CV 2/5] END ....C=0.1, gamma=0.01, kernel=rbf;, score=-0.682 total time=   0.0s\n",
      "[CV 3/5] END ....C=0.1, gamma=0.01, kernel=rbf;, score=-0.738 total time=   0.0s\n",
      "[CV 4/5] END ....C=0.1, gamma=0.01, kernel=rbf;, score=-0.640 total time=   0.0s\n",
      "[CV 5/5] END ....C=0.1, gamma=0.01, kernel=rbf;, score=-0.701 total time=   0.0s\n",
      "[CV 1/5] END C=0.1, gamma=0.001, kernel=linear;, score=-0.614 total time=   0.0s\n",
      "[CV 2/5] END C=0.1, gamma=0.001, kernel=linear;, score=-0.645 total time=   0.0s\n",
      "[CV 3/5] END C=0.1, gamma=0.001, kernel=linear;, score=-0.654 total time=   0.0s\n",
      "[CV 4/5] END C=0.1, gamma=0.001, kernel=linear;, score=-0.612 total time=   0.0s\n",
      "[CV 5/5] END C=0.1, gamma=0.001, kernel=linear;, score=-0.593 total time=   0.0s\n",
      "[CV 1/5] END ...C=0.1, gamma=0.001, kernel=rbf;, score=-1.074 total time=   0.0s\n",
      "[CV 2/5] END ...C=0.1, gamma=0.001, kernel=rbf;, score=-1.037 total time=   0.0s\n",
      "[CV 3/5] END ...C=0.1, gamma=0.001, kernel=rbf;, score=-1.037 total time=   0.0s\n",
      "[CV 4/5] END ...C=0.1, gamma=0.001, kernel=rbf;, score=-1.023 total time=   0.0s\n",
      "[CV 5/5] END ...C=0.1, gamma=0.001, kernel=rbf;, score=-1.023 total time=   0.0s\n",
      "[CV 1/5] END ......C=1, gamma=1, kernel=linear;, score=-0.540 total time=   0.0s\n",
      "[CV 2/5] END ......C=1, gamma=1, kernel=linear;, score=-0.565 total time=   0.0s\n",
      "[CV 3/5] END ......C=1, gamma=1, kernel=linear;, score=-0.542 total time=   0.0s\n",
      "[CV 4/5] END ......C=1, gamma=1, kernel=linear;, score=-0.505 total time=   0.0s\n",
      "[CV 5/5] END ......C=1, gamma=1, kernel=linear;, score=-0.509 total time=   0.0s\n",
      "[CV 1/5] END .........C=1, gamma=1, kernel=rbf;, score=-0.693 total time=   0.0s\n",
      "[CV 2/5] END .........C=1, gamma=1, kernel=rbf;, score=-0.696 total time=   0.0s\n",
      "[CV 3/5] END .........C=1, gamma=1, kernel=rbf;, score=-0.678 total time=   0.0s\n",
      "[CV 4/5] END .........C=1, gamma=1, kernel=rbf;, score=-0.612 total time=   0.0s\n",
      "[CV 5/5] END .........C=1, gamma=1, kernel=rbf;, score=-0.612 total time=   0.0s\n",
      "[CV 1/5] END ....C=1, gamma=0.1, kernel=linear;, score=-0.540 total time=   0.0s\n",
      "[CV 2/5] END ....C=1, gamma=0.1, kernel=linear;, score=-0.565 total time=   0.0s\n",
      "[CV 3/5] END ....C=1, gamma=0.1, kernel=linear;, score=-0.542 total time=   0.0s\n",
      "[CV 4/5] END ....C=1, gamma=0.1, kernel=linear;, score=-0.505 total time=   0.1s\n",
      "[CV 5/5] END ....C=1, gamma=0.1, kernel=linear;, score=-0.509 total time=   0.0s\n",
      "[CV 1/5] END .......C=1, gamma=0.1, kernel=rbf;, score=-0.698 total time=   0.0s\n",
      "[CV 2/5] END .......C=1, gamma=0.1, kernel=rbf;, score=-0.621 total time=   0.0s\n",
      "[CV 3/5] END .......C=1, gamma=0.1, kernel=rbf;, score=-0.570 total time=   0.0s\n",
      "[CV 4/5] END .......C=1, gamma=0.1, kernel=rbf;, score=-0.654 total time=   0.0s\n",
      "[CV 5/5] END .......C=1, gamma=0.1, kernel=rbf;, score=-0.603 total time=   0.0s\n",
      "[CV 1/5] END ...C=1, gamma=0.01, kernel=linear;, score=-0.540 total time=   0.0s\n",
      "[CV 2/5] END ...C=1, gamma=0.01, kernel=linear;, score=-0.565 total time=   0.1s\n",
      "[CV 3/5] END ...C=1, gamma=0.01, kernel=linear;, score=-0.542 total time=   0.0s\n",
      "[CV 4/5] END ...C=1, gamma=0.01, kernel=linear;, score=-0.505 total time=   0.0s\n",
      "[CV 5/5] END ...C=1, gamma=0.01, kernel=linear;, score=-0.509 total time=   0.0s\n",
      "[CV 1/5] END ......C=1, gamma=0.01, kernel=rbf;, score=-0.740 total time=   0.0s\n",
      "[CV 2/5] END ......C=1, gamma=0.01, kernel=rbf;, score=-0.673 total time=   0.0s\n",
      "[CV 3/5] END ......C=1, gamma=0.01, kernel=rbf;, score=-0.701 total time=   0.0s\n",
      "[CV 4/5] END ......C=1, gamma=0.01, kernel=rbf;, score=-0.636 total time=   0.0s\n",
      "[CV 5/5] END ......C=1, gamma=0.01, kernel=rbf;, score=-0.668 total time=   0.0s\n",
      "[CV 1/5] END ..C=1, gamma=0.001, kernel=linear;, score=-0.540 total time=   0.0s\n",
      "[CV 2/5] END ..C=1, gamma=0.001, kernel=linear;, score=-0.565 total time=   0.0s\n",
      "[CV 3/5] END ..C=1, gamma=0.001, kernel=linear;, score=-0.542 total time=   0.0s\n",
      "[CV 4/5] END ..C=1, gamma=0.001, kernel=linear;, score=-0.505 total time=   0.0s\n",
      "[CV 5/5] END ..C=1, gamma=0.001, kernel=linear;, score=-0.509 total time=   0.0s\n",
      "[CV 1/5] END .....C=1, gamma=0.001, kernel=rbf;, score=-0.735 total time=   0.0s\n",
      "[CV 2/5] END .....C=1, gamma=0.001, kernel=rbf;, score=-0.682 total time=   0.0s\n",
      "[CV 3/5] END .....C=1, gamma=0.001, kernel=rbf;, score=-0.724 total time=   0.0s\n",
      "[CV 4/5] END .....C=1, gamma=0.001, kernel=rbf;, score=-0.650 total time=   0.0s\n",
      "[CV 5/5] END .....C=1, gamma=0.001, kernel=rbf;, score=-0.692 total time=   0.0s\n",
      "[CV 1/5] END .....C=10, gamma=1, kernel=linear;, score=-0.549 total time=   1.4s\n",
      "[CV 2/5] END .....C=10, gamma=1, kernel=linear;, score=-0.570 total time=   0.6s\n",
      "[CV 3/5] END .....C=10, gamma=1, kernel=linear;, score=-0.514 total time=   0.6s\n",
      "[CV 4/5] END .....C=10, gamma=1, kernel=linear;, score=-0.528 total time=   1.0s\n",
      "[CV 5/5] END .....C=10, gamma=1, kernel=linear;, score=-0.514 total time=   0.8s\n",
      "[CV 1/5] END ........C=10, gamma=1, kernel=rbf;, score=-0.786 total time=   0.0s\n",
      "[CV 2/5] END ........C=10, gamma=1, kernel=rbf;, score=-0.818 total time=   0.0s\n",
      "[CV 3/5] END ........C=10, gamma=1, kernel=rbf;, score=-0.654 total time=   0.0s\n",
      "[CV 4/5] END ........C=10, gamma=1, kernel=rbf;, score=-0.631 total time=   0.0s\n",
      "[CV 5/5] END ........C=10, gamma=1, kernel=rbf;, score=-0.612 total time=   0.0s\n",
      "[CV 1/5] END ...C=10, gamma=0.1, kernel=linear;, score=-0.549 total time=   1.4s\n",
      "[CV 2/5] END ...C=10, gamma=0.1, kernel=linear;, score=-0.570 total time=   0.7s\n",
      "[CV 3/5] END ...C=10, gamma=0.1, kernel=linear;, score=-0.514 total time=   0.6s\n",
      "[CV 4/5] END ...C=10, gamma=0.1, kernel=linear;, score=-0.528 total time=   1.2s\n",
      "[CV 5/5] END ...C=10, gamma=0.1, kernel=linear;, score=-0.514 total time=   0.9s\n",
      "[CV 1/5] END ......C=10, gamma=0.1, kernel=rbf;, score=-0.600 total time=   0.0s\n",
      "[CV 2/5] END ......C=10, gamma=0.1, kernel=rbf;, score=-0.607 total time=   0.0s\n",
      "[CV 3/5] END ......C=10, gamma=0.1, kernel=rbf;, score=-0.523 total time=   0.0s\n",
      "[CV 4/5] END ......C=10, gamma=0.1, kernel=rbf;, score=-0.537 total time=   0.0s\n",
      "[CV 5/5] END ......C=10, gamma=0.1, kernel=rbf;, score=-0.537 total time=   0.0s\n",
      "[CV 1/5] END ..C=10, gamma=0.01, kernel=linear;, score=-0.549 total time=   1.4s\n",
      "[CV 2/5] END ..C=10, gamma=0.01, kernel=linear;, score=-0.570 total time=   0.8s\n",
      "[CV 3/5] END ..C=10, gamma=0.01, kernel=linear;, score=-0.514 total time=   0.8s\n",
      "[CV 4/5] END ..C=10, gamma=0.01, kernel=linear;, score=-0.528 total time=   1.5s\n",
      "[CV 5/5] END ..C=10, gamma=0.01, kernel=linear;, score=-0.514 total time=   0.9s\n",
      "[CV 1/5] END .....C=10, gamma=0.01, kernel=rbf;, score=-0.581 total time=   0.0s\n",
      "[CV 2/5] END .....C=10, gamma=0.01, kernel=rbf;, score=-0.607 total time=   0.0s\n",
      "[CV 3/5] END .....C=10, gamma=0.01, kernel=rbf;, score=-0.542 total time=   0.0s\n",
      "[CV 4/5] END .....C=10, gamma=0.01, kernel=rbf;, score=-0.575 total time=   0.0s\n",
      "[CV 5/5] END .....C=10, gamma=0.01, kernel=rbf;, score=-0.542 total time=   0.0s\n",
      "[CV 1/5] END .C=10, gamma=0.001, kernel=linear;, score=-0.549 total time=   1.4s\n",
      "[CV 2/5] END .C=10, gamma=0.001, kernel=linear;, score=-0.570 total time=   0.7s\n",
      "[CV 3/5] END .C=10, gamma=0.001, kernel=linear;, score=-0.514 total time=   0.7s\n",
      "[CV 4/5] END .C=10, gamma=0.001, kernel=linear;, score=-0.528 total time=   1.4s\n",
      "[CV 5/5] END .C=10, gamma=0.001, kernel=linear;, score=-0.514 total time=   1.0s\n",
      "[CV 1/5] END ....C=10, gamma=0.001, kernel=rbf;, score=-0.712 total time=   0.0s\n",
      "[CV 2/5] END ....C=10, gamma=0.001, kernel=rbf;, score=-0.678 total time=   0.0s\n",
      "[CV 3/5] END ....C=10, gamma=0.001, kernel=rbf;, score=-0.715 total time=   0.0s\n",
      "[CV 4/5] END ....C=10, gamma=0.001, kernel=rbf;, score=-0.659 total time=   0.0s\n",
      "[CV 5/5] END ....C=10, gamma=0.001, kernel=rbf;, score=-0.664 total time=   0.0s\n",
      "[CV 1/5] END ....C=100, gamma=1, kernel=linear;, score=-0.544 total time=  11.6s\n",
      "[CV 2/5] END ....C=100, gamma=1, kernel=linear;, score=-0.575 total time=   8.0s\n",
      "[CV 3/5] END ....C=100, gamma=1, kernel=linear;, score=-0.514 total time=   8.9s\n",
      "[CV 4/5] END ....C=100, gamma=1, kernel=linear;, score=-0.519 total time=  12.4s\n",
      "[CV 5/5] END ....C=100, gamma=1, kernel=linear;, score=-0.519 total time=  13.8s\n",
      "[CV 1/5] END .......C=100, gamma=1, kernel=rbf;, score=-0.791 total time=   0.1s\n",
      "[CV 2/5] END .......C=100, gamma=1, kernel=rbf;, score=-0.832 total time=   0.1s\n",
      "[CV 3/5] END .......C=100, gamma=1, kernel=rbf;, score=-0.715 total time=   0.0s\n",
      "[CV 4/5] END .......C=100, gamma=1, kernel=rbf;, score=-0.650 total time=   0.0s\n",
      "[CV 5/5] END .......C=100, gamma=1, kernel=rbf;, score=-0.631 total time=   0.0s\n",
      "[CV 1/5] END ..C=100, gamma=0.1, kernel=linear;, score=-0.544 total time=   9.9s\n",
      "[CV 2/5] END ..C=100, gamma=0.1, kernel=linear;, score=-0.575 total time=   4.7s\n",
      "[CV 3/5] END ..C=100, gamma=0.1, kernel=linear;, score=-0.514 total time=   7.7s\n",
      "[CV 4/5] END ..C=100, gamma=0.1, kernel=linear;, score=-0.519 total time=   6.5s\n",
      "[CV 5/5] END ..C=100, gamma=0.1, kernel=linear;, score=-0.519 total time=   8.2s\n",
      "[CV 1/5] END .....C=100, gamma=0.1, kernel=rbf;, score=-0.665 total time=   0.1s\n",
      "[CV 2/5] END .....C=100, gamma=0.1, kernel=rbf;, score=-0.664 total time=   0.0s\n",
      "[CV 3/5] END .....C=100, gamma=0.1, kernel=rbf;, score=-0.603 total time=   0.0s\n",
      "[CV 4/5] END .....C=100, gamma=0.1, kernel=rbf;, score=-0.556 total time=   0.0s\n",
      "[CV 5/5] END .....C=100, gamma=0.1, kernel=rbf;, score=-0.481 total time=   0.0s\n",
      "[CV 1/5] END .C=100, gamma=0.01, kernel=linear;, score=-0.544 total time=   9.6s\n",
      "[CV 2/5] END .C=100, gamma=0.01, kernel=linear;, score=-0.575 total time=   5.6s\n",
      "[CV 3/5] END .C=100, gamma=0.01, kernel=linear;, score=-0.514 total time=   9.2s\n",
      "[CV 4/5] END .C=100, gamma=0.01, kernel=linear;, score=-0.519 total time=   6.7s\n",
      "[CV 5/5] END .C=100, gamma=0.01, kernel=linear;, score=-0.519 total time=  11.5s\n",
      "[CV 1/5] END ....C=100, gamma=0.01, kernel=rbf;, score=-0.526 total time=   0.0s\n",
      "[CV 2/5] END ....C=100, gamma=0.01, kernel=rbf;, score=-0.593 total time=   0.0s\n",
      "[CV 3/5] END ....C=100, gamma=0.01, kernel=rbf;, score=-0.472 total time=   0.0s\n",
      "[CV 4/5] END ....C=100, gamma=0.01, kernel=rbf;, score=-0.542 total time=   0.0s\n",
      "[CV 5/5] END ....C=100, gamma=0.01, kernel=rbf;, score=-0.519 total time=   0.0s\n",
      "[CV 1/5] END C=100, gamma=0.001, kernel=linear;, score=-0.544 total time=   9.7s\n",
      "[CV 2/5] END C=100, gamma=0.001, kernel=linear;, score=-0.575 total time=   4.8s\n",
      "[CV 3/5] END C=100, gamma=0.001, kernel=linear;, score=-0.514 total time=   8.3s\n",
      "[CV 4/5] END C=100, gamma=0.001, kernel=linear;, score=-0.519 total time=   5.3s\n",
      "[CV 5/5] END C=100, gamma=0.001, kernel=linear;, score=-0.519 total time=   6.5s\n",
      "[CV 1/5] END ...C=100, gamma=0.001, kernel=rbf;, score=-0.577 total time=   0.0s\n",
      "[CV 2/5] END ...C=100, gamma=0.001, kernel=rbf;, score=-0.570 total time=   0.0s\n",
      "[CV 3/5] END ...C=100, gamma=0.001, kernel=rbf;, score=-0.565 total time=   0.0s\n",
      "[CV 4/5] END ...C=100, gamma=0.001, kernel=rbf;, score=-0.598 total time=   0.0s\n",
      "[CV 5/5] END ...C=100, gamma=0.001, kernel=rbf;, score=-0.537 total time=   0.0s\n"
     ]
    },
    {
     "data": {
      "text/html": [
       "<style>#sk-container-id-2 {color: black;background-color: white;}#sk-container-id-2 pre{padding: 0;}#sk-container-id-2 div.sk-toggleable {background-color: white;}#sk-container-id-2 label.sk-toggleable__label {cursor: pointer;display: block;width: 100%;margin-bottom: 0;padding: 0.3em;box-sizing: border-box;text-align: center;}#sk-container-id-2 label.sk-toggleable__label-arrow:before {content: \"▸\";float: left;margin-right: 0.25em;color: #696969;}#sk-container-id-2 label.sk-toggleable__label-arrow:hover:before {color: black;}#sk-container-id-2 div.sk-estimator:hover label.sk-toggleable__label-arrow:before {color: black;}#sk-container-id-2 div.sk-toggleable__content {max-height: 0;max-width: 0;overflow: hidden;text-align: left;background-color: #f0f8ff;}#sk-container-id-2 div.sk-toggleable__content pre {margin: 0.2em;color: black;border-radius: 0.25em;background-color: #f0f8ff;}#sk-container-id-2 input.sk-toggleable__control:checked~div.sk-toggleable__content {max-height: 200px;max-width: 100%;overflow: auto;}#sk-container-id-2 input.sk-toggleable__control:checked~label.sk-toggleable__label-arrow:before {content: \"▾\";}#sk-container-id-2 div.sk-estimator input.sk-toggleable__control:checked~label.sk-toggleable__label {background-color: #d4ebff;}#sk-container-id-2 div.sk-label input.sk-toggleable__control:checked~label.sk-toggleable__label {background-color: #d4ebff;}#sk-container-id-2 input.sk-hidden--visually {border: 0;clip: rect(1px 1px 1px 1px);clip: rect(1px, 1px, 1px, 1px);height: 1px;margin: -1px;overflow: hidden;padding: 0;position: absolute;width: 1px;}#sk-container-id-2 div.sk-estimator {font-family: monospace;background-color: #f0f8ff;border: 1px dotted black;border-radius: 0.25em;box-sizing: border-box;margin-bottom: 0.5em;}#sk-container-id-2 div.sk-estimator:hover {background-color: #d4ebff;}#sk-container-id-2 div.sk-parallel-item::after {content: \"\";width: 100%;border-bottom: 1px solid gray;flex-grow: 1;}#sk-container-id-2 div.sk-label:hover label.sk-toggleable__label {background-color: #d4ebff;}#sk-container-id-2 div.sk-serial::before {content: \"\";position: absolute;border-left: 1px solid gray;box-sizing: border-box;top: 0;bottom: 0;left: 50%;z-index: 0;}#sk-container-id-2 div.sk-serial {display: flex;flex-direction: column;align-items: center;background-color: white;padding-right: 0.2em;padding-left: 0.2em;position: relative;}#sk-container-id-2 div.sk-item {position: relative;z-index: 1;}#sk-container-id-2 div.sk-parallel {display: flex;align-items: stretch;justify-content: center;background-color: white;position: relative;}#sk-container-id-2 div.sk-item::before, #sk-container-id-2 div.sk-parallel-item::before {content: \"\";position: absolute;border-left: 1px solid gray;box-sizing: border-box;top: 0;bottom: 0;left: 50%;z-index: -1;}#sk-container-id-2 div.sk-parallel-item {display: flex;flex-direction: column;z-index: 1;position: relative;background-color: white;}#sk-container-id-2 div.sk-parallel-item:first-child::after {align-self: flex-end;width: 50%;}#sk-container-id-2 div.sk-parallel-item:last-child::after {align-self: flex-start;width: 50%;}#sk-container-id-2 div.sk-parallel-item:only-child::after {width: 0;}#sk-container-id-2 div.sk-dashed-wrapped {border: 1px dashed gray;margin: 0 0.4em 0.5em 0.4em;box-sizing: border-box;padding-bottom: 0.4em;background-color: white;}#sk-container-id-2 div.sk-label label {font-family: monospace;font-weight: bold;display: inline-block;line-height: 1.2em;}#sk-container-id-2 div.sk-label-container {text-align: center;}#sk-container-id-2 div.sk-container {/* jupyter's `normalize.less` sets `[hidden] { display: none; }` but bootstrap.min.css set `[hidden] { display: none !important; }` so we also need the `!important` here to be able to override the default hidden behavior on the sphinx rendered scikit-learn.org. See: https://github.com/scikit-learn/scikit-learn/issues/21755 */display: inline-block !important;position: relative;}#sk-container-id-2 div.sk-text-repr-fallback {display: none;}</style><div id=\"sk-container-id-2\" class=\"sk-top-container\"><div class=\"sk-text-repr-fallback\"><pre>GridSearchCV(cv=5, estimator=SVC(),\n",
       "             param_grid={&#x27;C&#x27;: [0.1, 1, 10, 100], &#x27;gamma&#x27;: [1, 0.1, 0.01, 0.001],\n",
       "                         &#x27;kernel&#x27;: [&#x27;linear&#x27;, &#x27;rbf&#x27;]},\n",
       "             scoring=&#x27;neg_mean_squared_error&#x27;, verbose=3)</pre><b>In a Jupyter environment, please rerun this cell to show the HTML representation or trust the notebook. <br />On GitHub, the HTML representation is unable to render, please try loading this page with nbviewer.org.</b></div><div class=\"sk-container\" hidden><div class=\"sk-item sk-dashed-wrapped\"><div class=\"sk-label-container\"><div class=\"sk-label sk-toggleable\"><input class=\"sk-toggleable__control sk-hidden--visually\" id=\"sk-estimator-id-2\" type=\"checkbox\" ><label for=\"sk-estimator-id-2\" class=\"sk-toggleable__label sk-toggleable__label-arrow\">GridSearchCV</label><div class=\"sk-toggleable__content\"><pre>GridSearchCV(cv=5, estimator=SVC(),\n",
       "             param_grid={&#x27;C&#x27;: [0.1, 1, 10, 100], &#x27;gamma&#x27;: [1, 0.1, 0.01, 0.001],\n",
       "                         &#x27;kernel&#x27;: [&#x27;linear&#x27;, &#x27;rbf&#x27;]},\n",
       "             scoring=&#x27;neg_mean_squared_error&#x27;, verbose=3)</pre></div></div></div><div class=\"sk-parallel\"><div class=\"sk-parallel-item\"><div class=\"sk-item\"><div class=\"sk-label-container\"><div class=\"sk-label sk-toggleable\"><input class=\"sk-toggleable__control sk-hidden--visually\" id=\"sk-estimator-id-3\" type=\"checkbox\" ><label for=\"sk-estimator-id-3\" class=\"sk-toggleable__label sk-toggleable__label-arrow\">estimator: SVC</label><div class=\"sk-toggleable__content\"><pre>SVC()</pre></div></div></div><div class=\"sk-serial\"><div class=\"sk-item\"><div class=\"sk-estimator sk-toggleable\"><input class=\"sk-toggleable__control sk-hidden--visually\" id=\"sk-estimator-id-4\" type=\"checkbox\" ><label for=\"sk-estimator-id-4\" class=\"sk-toggleable__label sk-toggleable__label-arrow\">SVC</label><div class=\"sk-toggleable__content\"><pre>SVC()</pre></div></div></div></div></div></div></div></div></div></div>"
      ],
      "text/plain": [
       "GridSearchCV(cv=5, estimator=SVC(),\n",
       "             param_grid={'C': [0.1, 1, 10, 100], 'gamma': [1, 0.1, 0.01, 0.001],\n",
       "                         'kernel': ['linear', 'rbf']},\n",
       "             scoring='neg_mean_squared_error', verbose=3)"
      ]
     },
     "execution_count": 40,
     "metadata": {},
     "output_type": "execute_result"
    }
   ],
   "source": [
    "model.fit(x_train,y_train)"
   ]
  },
  {
   "cell_type": "code",
   "execution_count": 41,
   "id": "2b98b8ce",
   "metadata": {},
   "outputs": [
    {
     "name": "stdout",
     "output_type": "stream",
     "text": [
      "{'C': 100, 'gamma': 0.01, 'kernel': 'rbf'}\n",
      "-0.5303499239295805\n"
     ]
    }
   ],
   "source": [
    "print(model.best_params_)\n",
    "print(model.best_score_)"
   ]
  },
  {
   "cell_type": "code",
   "execution_count": 42,
   "id": "717b9f75",
   "metadata": {},
   "outputs": [
    {
     "data": {
      "text/plain": [
       "array([5, 6, 5, ..., 5, 6, 6])"
      ]
     },
     "execution_count": 42,
     "metadata": {},
     "output_type": "execute_result"
    }
   ],
   "source": [
    "model.predict(x_train)"
   ]
  },
  {
   "cell_type": "code",
   "execution_count": 43,
   "id": "54997e91",
   "metadata": {},
   "outputs": [],
   "source": [
    "from sklearn.metrics import classification_report, confusion_matrix"
   ]
  },
  {
   "cell_type": "code",
   "execution_count": 44,
   "id": "9a180672",
   "metadata": {},
   "outputs": [
    {
     "name": "stdout",
     "output_type": "stream",
     "text": [
      "--------------------------------------\n",
      "Confusion Matrix\n",
      "[[  0   0   5   0   0   0]\n",
      " [  0   0   7   6   0   0]\n",
      " [  0   0 193  43   0   0]\n",
      " [  0   0  65 129   2   0]\n",
      " [  0   0   4  63   4   0]\n",
      " [  0   0   0   7   0   0]]\n",
      "--------------------------------------\n",
      "Classification report\n",
      "              precision    recall  f1-score   support\n",
      "\n",
      "           3       0.00      0.00      0.00         5\n",
      "           4       0.00      0.00      0.00        13\n",
      "           5       0.70      0.82      0.76       236\n",
      "           6       0.52      0.66      0.58       196\n",
      "           7       0.67      0.06      0.10        71\n",
      "           8       0.00      0.00      0.00         7\n",
      "\n",
      "    accuracy                           0.62       528\n",
      "   macro avg       0.32      0.26      0.24       528\n",
      "weighted avg       0.60      0.62      0.57       528\n",
      "\n",
      "--------------------------------------\n"
     ]
    }
   ],
   "source": [
    "grid_model_predictions = model.predict(x_test)\n",
    "print(\"--------------------------------------\")\n",
    "print(\"Confusion Matrix\")\n",
    "print(confusion_matrix(y_test,grid_model_predictions))\n",
    "print(\"--------------------------------------\")\n",
    "print(\"Classification report\")\n",
    "print(classification_report(y_test,grid_model_predictions))\n",
    "print(\"--------------------------------------\")"
   ]
  },
  {
   "cell_type": "code",
   "execution_count": 45,
   "id": "6730ecb6",
   "metadata": {},
   "outputs": [
    {
     "data": {
      "text/plain": [
       "(1599, 11)"
      ]
     },
     "execution_count": 45,
     "metadata": {},
     "output_type": "execute_result"
    }
   ],
   "source": [
    "x.shape"
   ]
  },
  {
   "cell_type": "code",
   "execution_count": 46,
   "id": "b51a81c8",
   "metadata": {},
   "outputs": [],
   "source": [
    "from imblearn.combine import SMOTETomek\n",
    "from imblearn.under_sampling import TomekLinks"
   ]
  },
  {
   "cell_type": "code",
   "execution_count": 47,
   "id": "988d0b3e",
   "metadata": {},
   "outputs": [],
   "source": [
    "resample = SMOTETomek(tomek=TomekLinks(sampling_strategy='majority'))\n",
    "sampled_x, sampled_y = resample.fit_resample(x, y)"
   ]
  },
  {
   "cell_type": "code",
   "execution_count": 48,
   "id": "82060355",
   "metadata": {},
   "outputs": [
    {
     "name": "stdout",
     "output_type": "stream",
     "text": [
      "(4083, 11)\n",
      "(4083,)\n"
     ]
    }
   ],
   "source": [
    "print(sampled_x.shape)\n",
    "print(sampled_y.shape)"
   ]
  },
  {
   "cell_type": "code",
   "execution_count": 49,
   "id": "a27be15e",
   "metadata": {},
   "outputs": [],
   "source": [
    "x_train_rs, x_test_rs, y_train_rs, y_test_rs = train_test_split(sampled_x, sampled_y, test_size = 0.33, random_state=5)"
   ]
  },
  {
   "cell_type": "code",
   "execution_count": 50,
   "id": "6020367e",
   "metadata": {},
   "outputs": [
    {
     "data": {
      "text/plain": [
       "array([[-0.71423358, -1.73507296,  0.89903616, ...,  0.1245511 ,\n",
       "        -0.71325924,  1.46890487],\n",
       "       [-0.03858638,  1.82435179, -1.01969009, ...,  1.11181733,\n",
       "        -0.55957694, -0.5662844 ],\n",
       "       [-0.47478295,  0.59067105, -1.36099473, ...,  0.1678972 ,\n",
       "        -0.86848617, -0.40373351],\n",
       "       ...,\n",
       "       [-0.20937433,  0.78673384, -1.10129196, ...,  0.10317101,\n",
       "        -0.5486582 ,  0.29250679],\n",
       "       [-1.01354687, -0.09132537, -0.28150062, ...,  0.58473462,\n",
       "        -0.21870372,  0.91706533],\n",
       "       [ 0.56056403, -0.75287039,  0.86721348, ..., -0.26960222,\n",
       "         0.13990352,  0.74142603]])"
      ]
     },
     "execution_count": 50,
     "metadata": {},
     "output_type": "execute_result"
    }
   ],
   "source": [
    "scaler.fit_transform(x_train_rs)\n",
    "scaler.transform(x_test_rs)"
   ]
  },
  {
   "cell_type": "code",
   "execution_count": 51,
   "id": "7d4a1fbe",
   "metadata": {},
   "outputs": [
    {
     "name": "stdout",
     "output_type": "stream",
     "text": [
      "Fitting 5 folds for each of 32 candidates, totalling 160 fits\n",
      "[CV 1/5] END ....C=0.1, gamma=1, kernel=linear;, score=-1.399 total time=   0.2s\n",
      "[CV 2/5] END ....C=0.1, gamma=1, kernel=linear;, score=-1.642 total time=   0.2s\n",
      "[CV 3/5] END ....C=0.1, gamma=1, kernel=linear;, score=-1.260 total time=   0.2s\n",
      "[CV 4/5] END ....C=0.1, gamma=1, kernel=linear;, score=-1.576 total time=   0.2s\n",
      "[CV 5/5] END ....C=0.1, gamma=1, kernel=linear;, score=-1.448 total time=   0.1s\n",
      "[CV 1/5] END .......C=0.1, gamma=1, kernel=rbf;, score=-1.112 total time=   0.5s\n",
      "[CV 2/5] END .......C=0.1, gamma=1, kernel=rbf;, score=-1.388 total time=   0.4s\n",
      "[CV 3/5] END .......C=0.1, gamma=1, kernel=rbf;, score=-1.192 total time=   0.5s\n",
      "[CV 4/5] END .......C=0.1, gamma=1, kernel=rbf;, score=-1.375 total time=   0.5s\n",
      "[CV 5/5] END .......C=0.1, gamma=1, kernel=rbf;, score=-1.373 total time=   0.4s\n",
      "[CV 1/5] END ..C=0.1, gamma=0.1, kernel=linear;, score=-1.399 total time=   0.2s\n",
      "[CV 2/5] END ..C=0.1, gamma=0.1, kernel=linear;, score=-1.642 total time=   0.2s\n",
      "[CV 3/5] END ..C=0.1, gamma=0.1, kernel=linear;, score=-1.260 total time=   0.3s\n",
      "[CV 4/5] END ..C=0.1, gamma=0.1, kernel=linear;, score=-1.576 total time=   0.3s\n",
      "[CV 5/5] END ..C=0.1, gamma=0.1, kernel=linear;, score=-1.448 total time=   0.3s\n",
      "[CV 1/5] END .....C=0.1, gamma=0.1, kernel=rbf;, score=-2.229 total time=   0.6s\n",
      "[CV 2/5] END .....C=0.1, gamma=0.1, kernel=rbf;, score=-2.823 total time=   0.5s\n",
      "[CV 3/5] END .....C=0.1, gamma=0.1, kernel=rbf;, score=-1.982 total time=   0.5s\n",
      "[CV 4/5] END .....C=0.1, gamma=0.1, kernel=rbf;, score=-2.676 total time=   0.5s\n",
      "[CV 5/5] END .....C=0.1, gamma=0.1, kernel=rbf;, score=-2.488 total time=   0.4s\n",
      "[CV 1/5] END .C=0.1, gamma=0.01, kernel=linear;, score=-1.399 total time=   0.2s\n",
      "[CV 2/5] END .C=0.1, gamma=0.01, kernel=linear;, score=-1.642 total time=   0.2s\n",
      "[CV 3/5] END .C=0.1, gamma=0.01, kernel=linear;, score=-1.260 total time=   0.2s\n",
      "[CV 4/5] END .C=0.1, gamma=0.01, kernel=linear;, score=-1.576 total time=   0.2s\n",
      "[CV 5/5] END .C=0.1, gamma=0.01, kernel=linear;, score=-1.448 total time=   0.2s\n",
      "[CV 1/5] END ....C=0.1, gamma=0.01, kernel=rbf;, score=-3.903 total time=   0.6s\n",
      "[CV 2/5] END ....C=0.1, gamma=0.01, kernel=rbf;, score=-4.503 total time=   0.6s\n",
      "[CV 3/5] END ....C=0.1, gamma=0.01, kernel=rbf;, score=-3.969 total time=   0.5s\n",
      "[CV 4/5] END ....C=0.1, gamma=0.01, kernel=rbf;, score=-4.239 total time=   0.7s\n",
      "[CV 5/5] END ....C=0.1, gamma=0.01, kernel=rbf;, score=-4.152 total time=   0.7s\n",
      "[CV 1/5] END C=0.1, gamma=0.001, kernel=linear;, score=-1.399 total time=   0.3s\n",
      "[CV 2/5] END C=0.1, gamma=0.001, kernel=linear;, score=-1.642 total time=   0.3s\n",
      "[CV 3/5] END C=0.1, gamma=0.001, kernel=linear;, score=-1.260 total time=   0.3s\n",
      "[CV 4/5] END C=0.1, gamma=0.001, kernel=linear;, score=-1.576 total time=   0.2s\n",
      "[CV 5/5] END C=0.1, gamma=0.001, kernel=linear;, score=-1.448 total time=   0.2s\n",
      "[CV 1/5] END ...C=0.1, gamma=0.001, kernel=rbf;, score=-5.057 total time=   0.6s\n",
      "[CV 2/5] END ...C=0.1, gamma=0.001, kernel=rbf;, score=-5.042 total time=   0.6s\n",
      "[CV 3/5] END ...C=0.1, gamma=0.001, kernel=rbf;, score=-5.037 total time=   0.7s\n",
      "[CV 4/5] END ...C=0.1, gamma=0.001, kernel=rbf;, score=-5.037 total time=   0.7s\n",
      "[CV 5/5] END ...C=0.1, gamma=0.001, kernel=rbf;, score=-5.037 total time=   0.6s\n",
      "[CV 1/5] END ......C=1, gamma=1, kernel=linear;, score=-0.914 total time=   0.3s\n",
      "[CV 2/5] END ......C=1, gamma=1, kernel=linear;, score=-1.022 total time=   0.3s\n",
      "[CV 3/5] END ......C=1, gamma=1, kernel=linear;, score=-0.874 total time=   0.3s\n",
      "[CV 4/5] END ......C=1, gamma=1, kernel=linear;, score=-0.920 total time=   0.3s\n",
      "[CV 5/5] END ......C=1, gamma=1, kernel=linear;, score=-0.951 total time=   0.2s\n",
      "[CV 1/5] END .........C=1, gamma=1, kernel=rbf;, score=-0.534 total time=   0.4s\n",
      "[CV 2/5] END .........C=1, gamma=1, kernel=rbf;, score=-0.490 total time=   0.4s\n",
      "[CV 3/5] END .........C=1, gamma=1, kernel=rbf;, score=-0.523 total time=   0.4s\n",
      "[CV 4/5] END .........C=1, gamma=1, kernel=rbf;, score=-0.585 total time=   0.4s\n",
      "[CV 5/5] END .........C=1, gamma=1, kernel=rbf;, score=-0.689 total time=   0.4s\n",
      "[CV 1/5] END ....C=1, gamma=0.1, kernel=linear;, score=-0.914 total time=   0.3s\n",
      "[CV 2/5] END ....C=1, gamma=0.1, kernel=linear;, score=-1.022 total time=   0.2s\n",
      "[CV 3/5] END ....C=1, gamma=0.1, kernel=linear;, score=-0.874 total time=   0.2s\n",
      "[CV 4/5] END ....C=1, gamma=0.1, kernel=linear;, score=-0.920 total time=   0.3s\n",
      "[CV 5/5] END ....C=1, gamma=0.1, kernel=linear;, score=-0.951 total time=   0.3s\n",
      "[CV 1/5] END .......C=1, gamma=0.1, kernel=rbf;, score=-1.000 total time=   0.3s\n",
      "[CV 2/5] END .......C=1, gamma=0.1, kernel=rbf;, score=-0.923 total time=   0.4s\n",
      "[CV 3/5] END .......C=1, gamma=0.1, kernel=rbf;, score=-1.150 total time=   0.4s\n",
      "[CV 4/5] END .......C=1, gamma=0.1, kernel=rbf;, score=-1.022 total time=   0.4s\n",
      "[CV 5/5] END .......C=1, gamma=0.1, kernel=rbf;, score=-0.998 total time=   0.4s\n",
      "[CV 1/5] END ...C=1, gamma=0.01, kernel=linear;, score=-0.914 total time=   0.3s\n",
      "[CV 2/5] END ...C=1, gamma=0.01, kernel=linear;, score=-1.022 total time=   0.2s\n",
      "[CV 3/5] END ...C=1, gamma=0.01, kernel=linear;, score=-0.874 total time=   0.2s\n",
      "[CV 4/5] END ...C=1, gamma=0.01, kernel=linear;, score=-0.920 total time=   0.3s\n",
      "[CV 5/5] END ...C=1, gamma=0.01, kernel=linear;, score=-0.951 total time=   0.3s\n",
      "[CV 1/5] END ......C=1, gamma=0.01, kernel=rbf;, score=-1.952 total time=   0.5s\n",
      "[CV 2/5] END ......C=1, gamma=0.01, kernel=rbf;, score=-2.353 total time=   0.5s\n",
      "[CV 3/5] END ......C=1, gamma=0.01, kernel=rbf;, score=-1.748 total time=   0.5s\n",
      "[CV 4/5] END ......C=1, gamma=0.01, kernel=rbf;, score=-2.221 total time=   0.4s\n",
      "[CV 5/5] END ......C=1, gamma=0.01, kernel=rbf;, score=-2.293 total time=   0.4s\n",
      "[CV 1/5] END ..C=1, gamma=0.001, kernel=linear;, score=-0.914 total time=   0.2s\n",
      "[CV 2/5] END ..C=1, gamma=0.001, kernel=linear;, score=-1.022 total time=   0.3s\n",
      "[CV 3/5] END ..C=1, gamma=0.001, kernel=linear;, score=-0.874 total time=   0.2s\n",
      "[CV 4/5] END ..C=1, gamma=0.001, kernel=linear;, score=-0.920 total time=   0.3s\n",
      "[CV 5/5] END ..C=1, gamma=0.001, kernel=linear;, score=-0.951 total time=   0.2s\n",
      "[CV 1/5] END .....C=1, gamma=0.001, kernel=rbf;, score=-4.272 total time=   0.6s\n",
      "[CV 2/5] END .....C=1, gamma=0.001, kernel=rbf;, score=-4.965 total time=   0.5s\n",
      "[CV 3/5] END .....C=1, gamma=0.001, kernel=rbf;, score=-4.245 total time=   0.6s\n",
      "[CV 4/5] END .....C=1, gamma=0.001, kernel=rbf;, score=-4.514 total time=   0.5s\n",
      "[CV 5/5] END .....C=1, gamma=0.001, kernel=rbf;, score=-4.576 total time=   0.5s\n",
      "[CV 1/5] END .....C=10, gamma=1, kernel=linear;, score=-0.779 total time=   0.7s\n",
      "[CV 2/5] END .....C=10, gamma=1, kernel=linear;, score=-0.835 total time=   0.6s\n",
      "[CV 3/5] END .....C=10, gamma=1, kernel=linear;, score=-0.810 total time=   0.7s\n",
      "[CV 4/5] END .....C=10, gamma=1, kernel=linear;, score=-0.792 total time=   0.7s\n",
      "[CV 5/5] END .....C=10, gamma=1, kernel=linear;, score=-0.865 total time=   0.8s\n",
      "[CV 1/5] END ........C=10, gamma=1, kernel=rbf;, score=-0.316 total time=   0.4s\n",
      "[CV 2/5] END ........C=10, gamma=1, kernel=rbf;, score=-0.283 total time=   0.4s\n",
      "[CV 3/5] END ........C=10, gamma=1, kernel=rbf;, score=-0.320 total time=   0.4s\n",
      "[CV 4/5] END ........C=10, gamma=1, kernel=rbf;, score=-0.413 total time=   0.4s\n",
      "[CV 5/5] END ........C=10, gamma=1, kernel=rbf;, score=-0.404 total time=   0.4s\n",
      "[CV 1/5] END ...C=10, gamma=0.1, kernel=linear;, score=-0.779 total time=   0.8s\n",
      "[CV 2/5] END ...C=10, gamma=0.1, kernel=linear;, score=-0.835 total time=   0.8s\n",
      "[CV 3/5] END ...C=10, gamma=0.1, kernel=linear;, score=-0.810 total time=   0.8s\n",
      "[CV 4/5] END ...C=10, gamma=0.1, kernel=linear;, score=-0.792 total time=   0.8s\n",
      "[CV 5/5] END ...C=10, gamma=0.1, kernel=linear;, score=-0.865 total time=   0.8s\n",
      "[CV 1/5] END ......C=10, gamma=0.1, kernel=rbf;, score=-0.552 total time=   0.3s\n",
      "[CV 2/5] END ......C=10, gamma=0.1, kernel=rbf;, score=-0.567 total time=   0.3s\n",
      "[CV 3/5] END ......C=10, gamma=0.1, kernel=rbf;, score=-0.461 total time=   0.2s\n",
      "[CV 4/5] END ......C=10, gamma=0.1, kernel=rbf;, score=-0.587 total time=   0.2s\n",
      "[CV 5/5] END ......C=10, gamma=0.1, kernel=rbf;, score=-0.572 total time=   0.2s\n",
      "[CV 1/5] END ..C=10, gamma=0.01, kernel=linear;, score=-0.779 total time=   0.6s\n",
      "[CV 2/5] END ..C=10, gamma=0.01, kernel=linear;, score=-0.835 total time=   0.6s\n",
      "[CV 3/5] END ..C=10, gamma=0.01, kernel=linear;, score=-0.810 total time=   0.6s\n",
      "[CV 4/5] END ..C=10, gamma=0.01, kernel=linear;, score=-0.792 total time=   0.8s\n",
      "[CV 5/5] END ..C=10, gamma=0.01, kernel=linear;, score=-0.865 total time=   0.8s\n",
      "[CV 1/5] END .....C=10, gamma=0.01, kernel=rbf;, score=-1.080 total time=   0.3s\n",
      "[CV 2/5] END .....C=10, gamma=0.01, kernel=rbf;, score=-1.110 total time=   0.3s\n",
      "[CV 3/5] END .....C=10, gamma=0.01, kernel=rbf;, score=-1.115 total time=   0.3s\n",
      "[CV 4/5] END .....C=10, gamma=0.01, kernel=rbf;, score=-1.015 total time=   0.3s\n",
      "[CV 5/5] END .....C=10, gamma=0.01, kernel=rbf;, score=-1.055 total time=   0.3s\n",
      "[CV 1/5] END .C=10, gamma=0.001, kernel=linear;, score=-0.779 total time=   0.6s\n",
      "[CV 2/5] END .C=10, gamma=0.001, kernel=linear;, score=-0.835 total time=   0.6s\n",
      "[CV 3/5] END .C=10, gamma=0.001, kernel=linear;, score=-0.810 total time=   0.6s\n",
      "[CV 4/5] END .C=10, gamma=0.001, kernel=linear;, score=-0.792 total time=   0.5s\n",
      "[CV 5/5] END .C=10, gamma=0.001, kernel=linear;, score=-0.865 total time=   0.6s\n",
      "[CV 1/5] END ....C=10, gamma=0.001, kernel=rbf;, score=-1.806 total time=   0.4s\n",
      "[CV 2/5] END ....C=10, gamma=0.001, kernel=rbf;, score=-2.011 total time=   0.4s\n",
      "[CV 3/5] END ....C=10, gamma=0.001, kernel=rbf;, score=-1.563 total time=   0.4s\n",
      "[CV 4/5] END ....C=10, gamma=0.001, kernel=rbf;, score=-2.110 total time=   0.4s\n",
      "[CV 5/5] END ....C=10, gamma=0.001, kernel=rbf;, score=-2.038 total time=   0.6s\n",
      "[CV 1/5] END ....C=100, gamma=1, kernel=linear;, score=-0.759 total time=   4.6s\n",
      "[CV 2/5] END ....C=100, gamma=1, kernel=linear;, score=-0.771 total time=   4.5s\n",
      "[CV 3/5] END ....C=100, gamma=1, kernel=linear;, score=-0.740 total time=   4.7s\n",
      "[CV 4/5] END ....C=100, gamma=1, kernel=linear;, score=-0.795 total time=   3.8s\n",
      "[CV 5/5] END ....C=100, gamma=1, kernel=linear;, score=-0.845 total time=   4.5s\n",
      "[CV 1/5] END .......C=100, gamma=1, kernel=rbf;, score=-0.324 total time=   0.4s\n",
      "[CV 2/5] END .......C=100, gamma=1, kernel=rbf;, score=-0.320 total time=   0.3s\n",
      "[CV 3/5] END .......C=100, gamma=1, kernel=rbf;, score=-0.320 total time=   0.4s\n",
      "[CV 4/5] END .......C=100, gamma=1, kernel=rbf;, score=-0.419 total time=   0.4s\n",
      "[CV 5/5] END .......C=100, gamma=1, kernel=rbf;, score=-0.395 total time=   0.3s\n",
      "[CV 1/5] END ..C=100, gamma=0.1, kernel=linear;, score=-0.759 total time=   4.5s\n",
      "[CV 2/5] END ..C=100, gamma=0.1, kernel=linear;, score=-0.771 total time=   4.2s\n",
      "[CV 3/5] END ..C=100, gamma=0.1, kernel=linear;, score=-0.740 total time=   4.2s\n",
      "[CV 4/5] END ..C=100, gamma=0.1, kernel=linear;, score=-0.795 total time=   3.7s\n",
      "[CV 5/5] END ..C=100, gamma=0.1, kernel=linear;, score=-0.845 total time=   4.3s\n",
      "[CV 1/5] END .....C=100, gamma=0.1, kernel=rbf;, score=-0.314 total time=   0.4s\n",
      "[CV 2/5] END .....C=100, gamma=0.1, kernel=rbf;, score=-0.373 total time=   0.4s\n",
      "[CV 3/5] END .....C=100, gamma=0.1, kernel=rbf;, score=-0.358 total time=   0.5s\n",
      "[CV 4/5] END .....C=100, gamma=0.1, kernel=rbf;, score=-0.364 total time=   0.4s\n",
      "[CV 5/5] END .....C=100, gamma=0.1, kernel=rbf;, score=-0.364 total time=   0.4s\n",
      "[CV 1/5] END .C=100, gamma=0.01, kernel=linear;, score=-0.759 total time=   4.2s\n",
      "[CV 2/5] END .C=100, gamma=0.01, kernel=linear;, score=-0.771 total time=   3.9s\n",
      "[CV 3/5] END .C=100, gamma=0.01, kernel=linear;, score=-0.740 total time=   4.1s\n",
      "[CV 4/5] END .C=100, gamma=0.01, kernel=linear;, score=-0.795 total time=   3.6s\n",
      "[CV 5/5] END .C=100, gamma=0.01, kernel=linear;, score=-0.845 total time=   4.4s\n",
      "[CV 1/5] END ....C=100, gamma=0.01, kernel=rbf;, score=-0.673 total time=   0.4s\n",
      "[CV 2/5] END ....C=100, gamma=0.01, kernel=rbf;, score=-0.718 total time=   0.4s\n",
      "[CV 3/5] END ....C=100, gamma=0.01, kernel=rbf;, score=-0.614 total time=   0.3s\n",
      "[CV 4/5] END ....C=100, gamma=0.01, kernel=rbf;, score=-0.627 total time=   0.3s\n",
      "[CV 5/5] END ....C=100, gamma=0.01, kernel=rbf;, score=-0.601 total time=   0.3s\n",
      "[CV 1/5] END C=100, gamma=0.001, kernel=linear;, score=-0.759 total time=   3.9s\n",
      "[CV 2/5] END C=100, gamma=0.001, kernel=linear;, score=-0.771 total time=   3.8s\n",
      "[CV 3/5] END C=100, gamma=0.001, kernel=linear;, score=-0.740 total time=   3.9s\n",
      "[CV 4/5] END C=100, gamma=0.001, kernel=linear;, score=-0.795 total time=   4.2s\n",
      "[CV 5/5] END C=100, gamma=0.001, kernel=linear;, score=-0.845 total time=   4.5s\n",
      "[CV 1/5] END ...C=100, gamma=0.001, kernel=rbf;, score=-1.216 total time=   0.5s\n",
      "[CV 2/5] END ...C=100, gamma=0.001, kernel=rbf;, score=-1.249 total time=   0.4s\n",
      "[CV 3/5] END ...C=100, gamma=0.001, kernel=rbf;, score=-1.040 total time=   0.4s\n",
      "[CV 4/5] END ...C=100, gamma=0.001, kernel=rbf;, score=-1.223 total time=   0.5s\n",
      "[CV 5/5] END ...C=100, gamma=0.001, kernel=rbf;, score=-1.196 total time=   0.5s\n"
     ]
    },
    {
     "data": {
      "text/html": [
       "<style>#sk-container-id-3 {color: black;background-color: white;}#sk-container-id-3 pre{padding: 0;}#sk-container-id-3 div.sk-toggleable {background-color: white;}#sk-container-id-3 label.sk-toggleable__label {cursor: pointer;display: block;width: 100%;margin-bottom: 0;padding: 0.3em;box-sizing: border-box;text-align: center;}#sk-container-id-3 label.sk-toggleable__label-arrow:before {content: \"▸\";float: left;margin-right: 0.25em;color: #696969;}#sk-container-id-3 label.sk-toggleable__label-arrow:hover:before {color: black;}#sk-container-id-3 div.sk-estimator:hover label.sk-toggleable__label-arrow:before {color: black;}#sk-container-id-3 div.sk-toggleable__content {max-height: 0;max-width: 0;overflow: hidden;text-align: left;background-color: #f0f8ff;}#sk-container-id-3 div.sk-toggleable__content pre {margin: 0.2em;color: black;border-radius: 0.25em;background-color: #f0f8ff;}#sk-container-id-3 input.sk-toggleable__control:checked~div.sk-toggleable__content {max-height: 200px;max-width: 100%;overflow: auto;}#sk-container-id-3 input.sk-toggleable__control:checked~label.sk-toggleable__label-arrow:before {content: \"▾\";}#sk-container-id-3 div.sk-estimator input.sk-toggleable__control:checked~label.sk-toggleable__label {background-color: #d4ebff;}#sk-container-id-3 div.sk-label input.sk-toggleable__control:checked~label.sk-toggleable__label {background-color: #d4ebff;}#sk-container-id-3 input.sk-hidden--visually {border: 0;clip: rect(1px 1px 1px 1px);clip: rect(1px, 1px, 1px, 1px);height: 1px;margin: -1px;overflow: hidden;padding: 0;position: absolute;width: 1px;}#sk-container-id-3 div.sk-estimator {font-family: monospace;background-color: #f0f8ff;border: 1px dotted black;border-radius: 0.25em;box-sizing: border-box;margin-bottom: 0.5em;}#sk-container-id-3 div.sk-estimator:hover {background-color: #d4ebff;}#sk-container-id-3 div.sk-parallel-item::after {content: \"\";width: 100%;border-bottom: 1px solid gray;flex-grow: 1;}#sk-container-id-3 div.sk-label:hover label.sk-toggleable__label {background-color: #d4ebff;}#sk-container-id-3 div.sk-serial::before {content: \"\";position: absolute;border-left: 1px solid gray;box-sizing: border-box;top: 0;bottom: 0;left: 50%;z-index: 0;}#sk-container-id-3 div.sk-serial {display: flex;flex-direction: column;align-items: center;background-color: white;padding-right: 0.2em;padding-left: 0.2em;position: relative;}#sk-container-id-3 div.sk-item {position: relative;z-index: 1;}#sk-container-id-3 div.sk-parallel {display: flex;align-items: stretch;justify-content: center;background-color: white;position: relative;}#sk-container-id-3 div.sk-item::before, #sk-container-id-3 div.sk-parallel-item::before {content: \"\";position: absolute;border-left: 1px solid gray;box-sizing: border-box;top: 0;bottom: 0;left: 50%;z-index: -1;}#sk-container-id-3 div.sk-parallel-item {display: flex;flex-direction: column;z-index: 1;position: relative;background-color: white;}#sk-container-id-3 div.sk-parallel-item:first-child::after {align-self: flex-end;width: 50%;}#sk-container-id-3 div.sk-parallel-item:last-child::after {align-self: flex-start;width: 50%;}#sk-container-id-3 div.sk-parallel-item:only-child::after {width: 0;}#sk-container-id-3 div.sk-dashed-wrapped {border: 1px dashed gray;margin: 0 0.4em 0.5em 0.4em;box-sizing: border-box;padding-bottom: 0.4em;background-color: white;}#sk-container-id-3 div.sk-label label {font-family: monospace;font-weight: bold;display: inline-block;line-height: 1.2em;}#sk-container-id-3 div.sk-label-container {text-align: center;}#sk-container-id-3 div.sk-container {/* jupyter's `normalize.less` sets `[hidden] { display: none; }` but bootstrap.min.css set `[hidden] { display: none !important; }` so we also need the `!important` here to be able to override the default hidden behavior on the sphinx rendered scikit-learn.org. See: https://github.com/scikit-learn/scikit-learn/issues/21755 */display: inline-block !important;position: relative;}#sk-container-id-3 div.sk-text-repr-fallback {display: none;}</style><div id=\"sk-container-id-3\" class=\"sk-top-container\"><div class=\"sk-text-repr-fallback\"><pre>GridSearchCV(cv=5, estimator=SVC(),\n",
       "             param_grid={&#x27;C&#x27;: [0.1, 1, 10, 100], &#x27;gamma&#x27;: [1, 0.1, 0.01, 0.001],\n",
       "                         &#x27;kernel&#x27;: [&#x27;linear&#x27;, &#x27;rbf&#x27;]},\n",
       "             scoring=&#x27;neg_mean_squared_error&#x27;, verbose=3)</pre><b>In a Jupyter environment, please rerun this cell to show the HTML representation or trust the notebook. <br />On GitHub, the HTML representation is unable to render, please try loading this page with nbviewer.org.</b></div><div class=\"sk-container\" hidden><div class=\"sk-item sk-dashed-wrapped\"><div class=\"sk-label-container\"><div class=\"sk-label sk-toggleable\"><input class=\"sk-toggleable__control sk-hidden--visually\" id=\"sk-estimator-id-5\" type=\"checkbox\" ><label for=\"sk-estimator-id-5\" class=\"sk-toggleable__label sk-toggleable__label-arrow\">GridSearchCV</label><div class=\"sk-toggleable__content\"><pre>GridSearchCV(cv=5, estimator=SVC(),\n",
       "             param_grid={&#x27;C&#x27;: [0.1, 1, 10, 100], &#x27;gamma&#x27;: [1, 0.1, 0.01, 0.001],\n",
       "                         &#x27;kernel&#x27;: [&#x27;linear&#x27;, &#x27;rbf&#x27;]},\n",
       "             scoring=&#x27;neg_mean_squared_error&#x27;, verbose=3)</pre></div></div></div><div class=\"sk-parallel\"><div class=\"sk-parallel-item\"><div class=\"sk-item\"><div class=\"sk-label-container\"><div class=\"sk-label sk-toggleable\"><input class=\"sk-toggleable__control sk-hidden--visually\" id=\"sk-estimator-id-6\" type=\"checkbox\" ><label for=\"sk-estimator-id-6\" class=\"sk-toggleable__label sk-toggleable__label-arrow\">estimator: SVC</label><div class=\"sk-toggleable__content\"><pre>SVC()</pre></div></div></div><div class=\"sk-serial\"><div class=\"sk-item\"><div class=\"sk-estimator sk-toggleable\"><input class=\"sk-toggleable__control sk-hidden--visually\" id=\"sk-estimator-id-7\" type=\"checkbox\" ><label for=\"sk-estimator-id-7\" class=\"sk-toggleable__label sk-toggleable__label-arrow\">SVC</label><div class=\"sk-toggleable__content\"><pre>SVC()</pre></div></div></div></div></div></div></div></div></div></div>"
      ],
      "text/plain": [
       "GridSearchCV(cv=5, estimator=SVC(),\n",
       "             param_grid={'C': [0.1, 1, 10, 100], 'gamma': [1, 0.1, 0.01, 0.001],\n",
       "                         'kernel': ['linear', 'rbf']},\n",
       "             scoring='neg_mean_squared_error', verbose=3)"
      ]
     },
     "execution_count": 51,
     "metadata": {},
     "output_type": "execute_result"
    }
   ],
   "source": [
    "model.fit(x_train_rs,y_train_rs)"
   ]
  },
  {
   "cell_type": "code",
   "execution_count": 52,
   "id": "c75e251d",
   "metadata": {},
   "outputs": [
    {
     "name": "stdout",
     "output_type": "stream",
     "text": [
      "{'C': 10, 'gamma': 1, 'kernel': 'rbf'}\n",
      "-0.34734917733089576\n"
     ]
    }
   ],
   "source": [
    "print(model.best_params_)\n",
    "print(model.best_score_)"
   ]
  },
  {
   "cell_type": "code",
   "execution_count": 53,
   "id": "c044f8f8",
   "metadata": {},
   "outputs": [
    {
     "data": {
      "text/plain": [
       "array([5, 4, 4, ..., 8, 3, 6])"
      ]
     },
     "execution_count": 53,
     "metadata": {},
     "output_type": "execute_result"
    }
   ],
   "source": [
    "model.predict(x_train_rs)"
   ]
  },
  {
   "cell_type": "code",
   "execution_count": 55,
   "id": "2763a312",
   "metadata": {},
   "outputs": [
    {
     "name": "stdout",
     "output_type": "stream",
     "text": [
      "--------------------------------------\n",
      "Confusion Matrix\n",
      "[[238   1   0   0   0   0]\n",
      " [  1 193   4   5   0   1]\n",
      " [  6  22 133  48   8   4]\n",
      " [  1  12  45 126  18   6]\n",
      " [  0   2   4  14 203   4]\n",
      " [  0   0   2   3   0 244]]\n",
      "--------------------------------------\n",
      "Classification report\n",
      "              precision    recall  f1-score   support\n",
      "\n",
      "           3       0.97      1.00      0.98       239\n",
      "           4       0.84      0.95      0.89       204\n",
      "           5       0.71      0.60      0.65       221\n",
      "           6       0.64      0.61      0.62       208\n",
      "           7       0.89      0.89      0.89       227\n",
      "           8       0.94      0.98      0.96       249\n",
      "\n",
      "    accuracy                           0.84      1348\n",
      "   macro avg       0.83      0.84      0.83      1348\n",
      "weighted avg       0.84      0.84      0.84      1348\n",
      "\n",
      "--------------------------------------\n"
     ]
    }
   ],
   "source": [
    "grid_model_predictions_rs = model.predict(x_test_rs)\n",
    "print(\"--------------------------------------\")\n",
    "print(\"Confusion Matrix\")\n",
    "print(confusion_matrix(y_test_rs,grid_model_predictions_rs))\n",
    "print(\"--------------------------------------\")\n",
    "print(\"Classification report\")\n",
    "print(classification_report(y_test_rs,grid_model_predictions_rs))\n",
    "print(\"--------------------------------------\")"
   ]
  },
  {
   "cell_type": "code",
   "execution_count": 56,
   "id": "883a2aed",
   "metadata": {},
   "outputs": [],
   "source": [
    "from sklearn.linear_model import LogisticRegression"
   ]
  },
  {
   "cell_type": "code",
   "execution_count": 57,
   "id": "8b317384",
   "metadata": {},
   "outputs": [],
   "source": [
    "lr_model = LogisticRegression()"
   ]
  },
  {
   "cell_type": "code",
   "execution_count": 58,
   "id": "672e60f4",
   "metadata": {},
   "outputs": [
    {
     "data": {
      "text/html": [
       "<style>#sk-container-id-4 {color: black;background-color: white;}#sk-container-id-4 pre{padding: 0;}#sk-container-id-4 div.sk-toggleable {background-color: white;}#sk-container-id-4 label.sk-toggleable__label {cursor: pointer;display: block;width: 100%;margin-bottom: 0;padding: 0.3em;box-sizing: border-box;text-align: center;}#sk-container-id-4 label.sk-toggleable__label-arrow:before {content: \"▸\";float: left;margin-right: 0.25em;color: #696969;}#sk-container-id-4 label.sk-toggleable__label-arrow:hover:before {color: black;}#sk-container-id-4 div.sk-estimator:hover label.sk-toggleable__label-arrow:before {color: black;}#sk-container-id-4 div.sk-toggleable__content {max-height: 0;max-width: 0;overflow: hidden;text-align: left;background-color: #f0f8ff;}#sk-container-id-4 div.sk-toggleable__content pre {margin: 0.2em;color: black;border-radius: 0.25em;background-color: #f0f8ff;}#sk-container-id-4 input.sk-toggleable__control:checked~div.sk-toggleable__content {max-height: 200px;max-width: 100%;overflow: auto;}#sk-container-id-4 input.sk-toggleable__control:checked~label.sk-toggleable__label-arrow:before {content: \"▾\";}#sk-container-id-4 div.sk-estimator input.sk-toggleable__control:checked~label.sk-toggleable__label {background-color: #d4ebff;}#sk-container-id-4 div.sk-label input.sk-toggleable__control:checked~label.sk-toggleable__label {background-color: #d4ebff;}#sk-container-id-4 input.sk-hidden--visually {border: 0;clip: rect(1px 1px 1px 1px);clip: rect(1px, 1px, 1px, 1px);height: 1px;margin: -1px;overflow: hidden;padding: 0;position: absolute;width: 1px;}#sk-container-id-4 div.sk-estimator {font-family: monospace;background-color: #f0f8ff;border: 1px dotted black;border-radius: 0.25em;box-sizing: border-box;margin-bottom: 0.5em;}#sk-container-id-4 div.sk-estimator:hover {background-color: #d4ebff;}#sk-container-id-4 div.sk-parallel-item::after {content: \"\";width: 100%;border-bottom: 1px solid gray;flex-grow: 1;}#sk-container-id-4 div.sk-label:hover label.sk-toggleable__label {background-color: #d4ebff;}#sk-container-id-4 div.sk-serial::before {content: \"\";position: absolute;border-left: 1px solid gray;box-sizing: border-box;top: 0;bottom: 0;left: 50%;z-index: 0;}#sk-container-id-4 div.sk-serial {display: flex;flex-direction: column;align-items: center;background-color: white;padding-right: 0.2em;padding-left: 0.2em;position: relative;}#sk-container-id-4 div.sk-item {position: relative;z-index: 1;}#sk-container-id-4 div.sk-parallel {display: flex;align-items: stretch;justify-content: center;background-color: white;position: relative;}#sk-container-id-4 div.sk-item::before, #sk-container-id-4 div.sk-parallel-item::before {content: \"\";position: absolute;border-left: 1px solid gray;box-sizing: border-box;top: 0;bottom: 0;left: 50%;z-index: -1;}#sk-container-id-4 div.sk-parallel-item {display: flex;flex-direction: column;z-index: 1;position: relative;background-color: white;}#sk-container-id-4 div.sk-parallel-item:first-child::after {align-self: flex-end;width: 50%;}#sk-container-id-4 div.sk-parallel-item:last-child::after {align-self: flex-start;width: 50%;}#sk-container-id-4 div.sk-parallel-item:only-child::after {width: 0;}#sk-container-id-4 div.sk-dashed-wrapped {border: 1px dashed gray;margin: 0 0.4em 0.5em 0.4em;box-sizing: border-box;padding-bottom: 0.4em;background-color: white;}#sk-container-id-4 div.sk-label label {font-family: monospace;font-weight: bold;display: inline-block;line-height: 1.2em;}#sk-container-id-4 div.sk-label-container {text-align: center;}#sk-container-id-4 div.sk-container {/* jupyter's `normalize.less` sets `[hidden] { display: none; }` but bootstrap.min.css set `[hidden] { display: none !important; }` so we also need the `!important` here to be able to override the default hidden behavior on the sphinx rendered scikit-learn.org. See: https://github.com/scikit-learn/scikit-learn/issues/21755 */display: inline-block !important;position: relative;}#sk-container-id-4 div.sk-text-repr-fallback {display: none;}</style><div id=\"sk-container-id-4\" class=\"sk-top-container\"><div class=\"sk-text-repr-fallback\"><pre>LogisticRegression()</pre><b>In a Jupyter environment, please rerun this cell to show the HTML representation or trust the notebook. <br />On GitHub, the HTML representation is unable to render, please try loading this page with nbviewer.org.</b></div><div class=\"sk-container\" hidden><div class=\"sk-item\"><div class=\"sk-estimator sk-toggleable\"><input class=\"sk-toggleable__control sk-hidden--visually\" id=\"sk-estimator-id-8\" type=\"checkbox\" checked><label for=\"sk-estimator-id-8\" class=\"sk-toggleable__label sk-toggleable__label-arrow\">LogisticRegression</label><div class=\"sk-toggleable__content\"><pre>LogisticRegression()</pre></div></div></div></div></div>"
      ],
      "text/plain": [
       "LogisticRegression()"
      ]
     },
     "execution_count": 58,
     "metadata": {},
     "output_type": "execute_result"
    }
   ],
   "source": [
    "lr_model.fit(x_train_rs,y_train_rs)"
   ]
  },
  {
   "cell_type": "code",
   "execution_count": 59,
   "id": "9f355349",
   "metadata": {},
   "outputs": [
    {
     "data": {
      "text/plain": [
       "array([5, 3, 7, ..., 8, 3, 7])"
      ]
     },
     "execution_count": 59,
     "metadata": {},
     "output_type": "execute_result"
    }
   ],
   "source": [
    "lr_model.predict(x_train_rs)"
   ]
  },
  {
   "cell_type": "code",
   "execution_count": 60,
   "id": "ad5540f6",
   "metadata": {},
   "outputs": [
    {
     "name": "stdout",
     "output_type": "stream",
     "text": [
      "--------------------------------------\n",
      "Confusion Matrix\n",
      "[[172  37  19  11   0   0]\n",
      " [ 42  75  59  15   4   9]\n",
      " [ 21  57  92  20  23   8]\n",
      " [ 12  27  43  51  44  31]\n",
      " [  2  16  17  24  98  70]\n",
      " [  0   5   1  22  67 154]]\n",
      "--------------------------------------\n",
      "Classification report\n",
      "              precision    recall  f1-score   support\n",
      "\n",
      "           3       0.69      0.72      0.70       239\n",
      "           4       0.35      0.37      0.36       204\n",
      "           5       0.40      0.42      0.41       221\n",
      "           6       0.36      0.25      0.29       208\n",
      "           7       0.42      0.43      0.42       227\n",
      "           8       0.57      0.62      0.59       249\n",
      "\n",
      "    accuracy                           0.48      1348\n",
      "   macro avg       0.46      0.47      0.46      1348\n",
      "weighted avg       0.47      0.48      0.47      1348\n",
      "\n",
      "--------------------------------------\n"
     ]
    }
   ],
   "source": [
    "lr_model_predictions = lr_model.predict(x_test_rs)\n",
    "print(\"--------------------------------------\")\n",
    "print(\"Confusion Matrix\")\n",
    "print(confusion_matrix(y_test_rs,lr_model_predictions))\n",
    "print(\"--------------------------------------\")\n",
    "print(\"Classification report\")\n",
    "print(classification_report(y_test_rs,lr_model_predictions))\n",
    "print(\"--------------------------------------\")"
   ]
  },
  {
   "cell_type": "code",
   "execution_count": 61,
   "id": "b552c507",
   "metadata": {},
   "outputs": [],
   "source": [
    "from sklearn.metrics import accuracy_score"
   ]
  },
  {
   "cell_type": "code",
   "execution_count": 62,
   "id": "b1a43fab",
   "metadata": {},
   "outputs": [
    {
     "name": "stdout",
     "output_type": "stream",
     "text": [
      "Final Test Accuracy Score of all the Models\n",
      "-------------------------------------------\n",
      "SVC without optimization: 0.5\n",
      "SVC after grid search cv optimization: 0.6174242424242424\n",
      "SVC after sampling using grid search cv: 0.8434718100890207\n",
      "Logistic Regression: 0.4762611275964392\n"
     ]
    }
   ],
   "source": [
    "print(\"Final Test Accuracy Score of all the Models\")\n",
    "print(\"-------------------------------------------\")\n",
    "print(\"SVC without optimization:\" , accuracy_score(y_test,y_pred_svc))\n",
    "print(\"SVC after grid search cv optimization:\", accuracy_score(y_test,grid_model_predictions))\n",
    "print(\"SVC after sampling using grid search cv:\", accuracy_score(y_test_rs,grid_model_predictions_rs))\n",
    "print(\"Logistic Regression:\", accuracy_score(y_test_rs,lr_model_predictions))"
   ]
  }
 ],
 "metadata": {
  "kernelspec": {
   "display_name": "Python 3 (ipykernel)",
   "language": "python",
   "name": "python3"
  },
  "language_info": {
   "codemirror_mode": {
    "name": "ipython",
    "version": 3
   },
   "file_extension": ".py",
   "mimetype": "text/x-python",
   "name": "python",
   "nbconvert_exporter": "python",
   "pygments_lexer": "ipython3",
   "version": "3.9.12"
  }
 },
 "nbformat": 4,
 "nbformat_minor": 5
}
